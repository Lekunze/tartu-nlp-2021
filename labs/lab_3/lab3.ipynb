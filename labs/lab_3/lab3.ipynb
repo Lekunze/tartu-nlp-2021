{
  "nbformat": 4,
  "nbformat_minor": 0,
  "metadata": {
    "colab": {
      "name": "Lab_3.ipynb",
      "provenance": []
    },
    "kernelspec": {
      "name": "python3",
      "display_name": "Python 3"
    }
  },
  "cells": [
    {
      "cell_type": "markdown",
      "metadata": {
        "id": "sGiKNZvPn5hO"
      },
      "source": [
        "# Lab 3: Data Annotation \r\n",
        "\r\n",
        "In this lab we will look into how annotated corpora for natural language processing are created. \r\n",
        "\r\n",
        "Annotation refers to the process of adding metadata information to the text in order to augment a computer’s abilities to perform Natural Language Processing. \r\n",
        "\r\n",
        "\r\n",
        "\r\n",
        "\r\n"
      ]
    },
    {
      "cell_type": "markdown",
      "metadata": {
        "id": "YpZ05uRpoP7_"
      },
      "source": [
        "## Label Studio \r\n",
        "\r\n",
        "[Label Studio](https://labelstud.io/) is an open source data labeling tool.\r\n",
        "\r\n",
        "What kind of labeling could we do with Label Studio? \r\n",
        "\r\n",
        "* Audio, Image, Text, Video, Object, etc Classification \r\n",
        "* Rating websites\r\n",
        "* Text summarization\r\n",
        "* Semantic segmentation\r\n",
        "* etc \r\n"
      ]
    },
    {
      "cell_type": "markdown",
      "metadata": {
        "id": "X7djVYoVosQo"
      },
      "source": [
        "## Setup\r\n",
        "\r\n",
        "Open your command prompt and install Label Studio using pip (activate your chosen environment as well): \r\n",
        "\r\n",
        "```\r\n",
        "pip install -U label-studio\r\n",
        "```\r\n",
        "\r\n",
        "Alternatively, you can install Label Studio from source or run the latest Docker version. Look for the instructions [here](https://labelstud.io/).\r\n",
        "\r\n",
        "\r\n",
        "Then we can move on to creating the Label Studio project. For that we need the config.xml and dataset file. Download the dataset assigned to you and the config file from [here](https://tartuulikool-my.sharepoint.com/:f:/g/personal/sirts_ut_ee/ElUIxXYlMgVKhHC5VbZYTE4B1177XXj7Ds9HR1auQbdbbA?e=5osMU8). Log in with your university account. Replace the data0.txt with your own dataset. \r\n",
        "\r\n",
        "```\r\n",
        "label-studio init nlp_lab3 --input-path=data0.txt --input-format=text --label-config=config.xml\r\n",
        "```\r\n",
        "\r\n",
        "\r\n",
        "Now we can start the project: \r\n",
        "\r\n",
        "```\r\n",
        "label-studio start .\\nlp_lab3\r\n",
        "```\r\n",
        "\r\n"
      ]
    },
    {
      "cell_type": "markdown",
      "metadata": {
        "id": "BbnsbEFI_EOW"
      },
      "source": [
        "## Annotation Guideline\r\n",
        "\r\n",
        "The annotation guideline helps direct the annotators in the task of identifying the elements of interest and then associating the appropriate features with them, when they are identified. \r\n",
        "\r\n",
        "### Our task\r\n",
        "\r\n",
        "Our task is to identify symptoms of depression from posts taken from depression subreddit. \r\n",
        "Each instance (post) can have multiple labels (multi-label classification).\r\n",
        "\r\n",
        "Description of the available labels and also the homework 2 part I instructions can be found [here](https://docs.google.com/document/d/1rvOOXqsj0vPybNLmH8Q5k-8UsbCg1mtbYeeNXcIPhiM/edit?usp=sharing). \r\n",
        "\r\n",
        "As this is the lab, you can just try out the Label Studio and not worry about the correct annotations. \r\n"
      ]
    },
    {
      "cell_type": "markdown",
      "metadata": {
        "id": "3POQEXpi2UUP"
      },
      "source": [
        "Now, lets try it out!"
      ]
    }
  ]
}
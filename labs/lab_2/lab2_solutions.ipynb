{
  "nbformat": 4,
  "nbformat_minor": 0,
  "metadata": {
    "colab": {
      "name": "lab2_solutions.ipynb",
      "provenance": [],
      "collapsed_sections": [],
      "toc_visible": true
    },
    "kernelspec": {
      "name": "python3",
      "display_name": "Python 3"
    },
    "widgets": {
      "application/vnd.jupyter.widget-state+json": {
        "1a6710e5d97247168a38cbe8fc8a946a": {
          "model_module": "@jupyter-widgets/controls",
          "model_name": "HBoxModel",
          "state": {
            "_view_name": "HBoxView",
            "_dom_classes": [],
            "_model_name": "HBoxModel",
            "_view_module": "@jupyter-widgets/controls",
            "_model_module_version": "1.5.0",
            "_view_count": null,
            "_view_module_version": "1.5.0",
            "box_style": "",
            "layout": "IPY_MODEL_a4b39ea499924e6c9b8e5a00862deb7c",
            "_model_module": "@jupyter-widgets/controls",
            "children": [
              "IPY_MODEL_1f0b17d0e2db44a3a5f147c7bf16dd14",
              "IPY_MODEL_6e2e190fc8734bed8d5eb9aee048c82e"
            ]
          }
        },
        "a4b39ea499924e6c9b8e5a00862deb7c": {
          "model_module": "@jupyter-widgets/base",
          "model_name": "LayoutModel",
          "state": {
            "_view_name": "LayoutView",
            "grid_template_rows": null,
            "right": null,
            "justify_content": null,
            "_view_module": "@jupyter-widgets/base",
            "overflow": null,
            "_model_module_version": "1.2.0",
            "_view_count": null,
            "flex_flow": null,
            "width": null,
            "min_width": null,
            "border": null,
            "align_items": null,
            "bottom": null,
            "_model_module": "@jupyter-widgets/base",
            "top": null,
            "grid_column": null,
            "overflow_y": null,
            "overflow_x": null,
            "grid_auto_flow": null,
            "grid_area": null,
            "grid_template_columns": null,
            "flex": null,
            "_model_name": "LayoutModel",
            "justify_items": null,
            "grid_row": null,
            "max_height": null,
            "align_content": null,
            "visibility": null,
            "align_self": null,
            "height": null,
            "min_height": null,
            "padding": null,
            "grid_auto_rows": null,
            "grid_gap": null,
            "max_width": null,
            "order": null,
            "_view_module_version": "1.2.0",
            "grid_template_areas": null,
            "object_position": null,
            "object_fit": null,
            "grid_auto_columns": null,
            "margin": null,
            "display": null,
            "left": null
          }
        },
        "1f0b17d0e2db44a3a5f147c7bf16dd14": {
          "model_module": "@jupyter-widgets/controls",
          "model_name": "FloatProgressModel",
          "state": {
            "_view_name": "ProgressView",
            "style": "IPY_MODEL_8734fceabbfc4d1d8c558b68e68f05fc",
            "_dom_classes": [],
            "description": "100%",
            "_model_name": "FloatProgressModel",
            "bar_style": "success",
            "max": 204,
            "_view_module": "@jupyter-widgets/controls",
            "_model_module_version": "1.5.0",
            "value": 204,
            "_view_count": null,
            "_view_module_version": "1.5.0",
            "orientation": "horizontal",
            "min": 0,
            "description_tooltip": null,
            "_model_module": "@jupyter-widgets/controls",
            "layout": "IPY_MODEL_105e72360a8840eca03f85a3d4ac3543"
          }
        },
        "6e2e190fc8734bed8d5eb9aee048c82e": {
          "model_module": "@jupyter-widgets/controls",
          "model_name": "HTMLModel",
          "state": {
            "_view_name": "HTMLView",
            "style": "IPY_MODEL_e189d03fc7a2461badb2c2958a42fb2e",
            "_dom_classes": [],
            "description": "",
            "_model_name": "HTMLModel",
            "placeholder": "​",
            "_view_module": "@jupyter-widgets/controls",
            "_model_module_version": "1.5.0",
            "value": " 204/204 [01:09&lt;00:00,  2.95it/s]",
            "_view_count": null,
            "_view_module_version": "1.5.0",
            "description_tooltip": null,
            "_model_module": "@jupyter-widgets/controls",
            "layout": "IPY_MODEL_276dd3262b134721b625b77df0c1c122"
          }
        },
        "8734fceabbfc4d1d8c558b68e68f05fc": {
          "model_module": "@jupyter-widgets/controls",
          "model_name": "ProgressStyleModel",
          "state": {
            "_view_name": "StyleView",
            "_model_name": "ProgressStyleModel",
            "description_width": "initial",
            "_view_module": "@jupyter-widgets/base",
            "_model_module_version": "1.5.0",
            "_view_count": null,
            "_view_module_version": "1.2.0",
            "bar_color": null,
            "_model_module": "@jupyter-widgets/controls"
          }
        },
        "105e72360a8840eca03f85a3d4ac3543": {
          "model_module": "@jupyter-widgets/base",
          "model_name": "LayoutModel",
          "state": {
            "_view_name": "LayoutView",
            "grid_template_rows": null,
            "right": null,
            "justify_content": null,
            "_view_module": "@jupyter-widgets/base",
            "overflow": null,
            "_model_module_version": "1.2.0",
            "_view_count": null,
            "flex_flow": null,
            "width": null,
            "min_width": null,
            "border": null,
            "align_items": null,
            "bottom": null,
            "_model_module": "@jupyter-widgets/base",
            "top": null,
            "grid_column": null,
            "overflow_y": null,
            "overflow_x": null,
            "grid_auto_flow": null,
            "grid_area": null,
            "grid_template_columns": null,
            "flex": null,
            "_model_name": "LayoutModel",
            "justify_items": null,
            "grid_row": null,
            "max_height": null,
            "align_content": null,
            "visibility": null,
            "align_self": null,
            "height": null,
            "min_height": null,
            "padding": null,
            "grid_auto_rows": null,
            "grid_gap": null,
            "max_width": null,
            "order": null,
            "_view_module_version": "1.2.0",
            "grid_template_areas": null,
            "object_position": null,
            "object_fit": null,
            "grid_auto_columns": null,
            "margin": null,
            "display": null,
            "left": null
          }
        },
        "e189d03fc7a2461badb2c2958a42fb2e": {
          "model_module": "@jupyter-widgets/controls",
          "model_name": "DescriptionStyleModel",
          "state": {
            "_view_name": "StyleView",
            "_model_name": "DescriptionStyleModel",
            "description_width": "",
            "_view_module": "@jupyter-widgets/base",
            "_model_module_version": "1.5.0",
            "_view_count": null,
            "_view_module_version": "1.2.0",
            "_model_module": "@jupyter-widgets/controls"
          }
        },
        "276dd3262b134721b625b77df0c1c122": {
          "model_module": "@jupyter-widgets/base",
          "model_name": "LayoutModel",
          "state": {
            "_view_name": "LayoutView",
            "grid_template_rows": null,
            "right": null,
            "justify_content": null,
            "_view_module": "@jupyter-widgets/base",
            "overflow": null,
            "_model_module_version": "1.2.0",
            "_view_count": null,
            "flex_flow": null,
            "width": null,
            "min_width": null,
            "border": null,
            "align_items": null,
            "bottom": null,
            "_model_module": "@jupyter-widgets/base",
            "top": null,
            "grid_column": null,
            "overflow_y": null,
            "overflow_x": null,
            "grid_auto_flow": null,
            "grid_area": null,
            "grid_template_columns": null,
            "flex": null,
            "_model_name": "LayoutModel",
            "justify_items": null,
            "grid_row": null,
            "max_height": null,
            "align_content": null,
            "visibility": null,
            "align_self": null,
            "height": null,
            "min_height": null,
            "padding": null,
            "grid_auto_rows": null,
            "grid_gap": null,
            "max_width": null,
            "order": null,
            "_view_module_version": "1.2.0",
            "grid_template_areas": null,
            "object_position": null,
            "object_fit": null,
            "grid_auto_columns": null,
            "margin": null,
            "display": null,
            "left": null
          }
        }
      }
    }
  },
  "cells": [
    {
      "cell_type": "markdown",
      "metadata": {
        "id": "7bW0AOiASyvU"
      },
      "source": [
        "# Lab 2: NLP Pipelines\r\n",
        "\r\n",
        "In this Lab, we are going to look into NLP pipelines and their role in text processing. \r\n",
        "\r\n",
        "### Pipeline\r\n",
        "A pipeline is a set of processors combined together to form a chain. A user puts their input from one end of the pipeline and gets the desired output from the other end. If you are familiar with Linux command line then you might have used the pipe command, where output of the first command becomes the input to the next command. For example: \r\n",
        "\r\n",
        "$ less text.txt | grep winter\r\n",
        "\r\n",
        "Here we first look into the text file, so the output is the whole file content and then we pipe this output into the grep command, which uses this text file to search for the word winter. We can again pipe this output into another command and so on. This is what happens with NLP pipeline as well. We first start with one processing task (generally tokenization or segmentation) and then use these results to do another task like part-of-speech tagging. \r\n",
        "\r\n",
        "There are many NLP pipelines available. \r\n",
        "Small subset of usable pipelines: \r\n",
        "* [SpaCy](https://spacy.io/) - single implementation for each NLP component\r\n",
        "* [Stanza](https://stanfordnlp.github.io/stanza/) -  highly accurate neural network components, can train your own models easily, supports 66 languages\r\n",
        "* [NLTK](https://www.nltk.org/) - Multiple implementations for each NLP component, can build your own pipeline\r\n",
        "* [UDPipe ](https://ufal.mff.cuni.cz/udpipe/1)- Trainable pipeline, language-agnostic\r\n",
        "* [Forte](https://github.com/asyml/forte) - toolkit for building NLP pipelines, decomposes problem into data, models and tasks. More usable for building integrated systems (search documents, analyze, extract documents etc)\r\n",
        "* [TextBlob](https://textblob.readthedocs.io/en/dev/) - extension of NLTK (simplified manner), good for small projects where state-of-the-art results are not needed \r\n",
        "* [CogCompNLP](https://github.com/CogComp/cogcomp-nlp) (Java tool) - developed by the University of Illinois, can process text (locally and remotely), a lot of components. \r\n",
        "\r\n",
        "In this Lab, we will use [Stanza](https://stanfordnlp.github.io/stanza/) pipeline. "
      ]
    },
    {
      "cell_type": "code",
      "metadata": {
        "id": "reJA8mLwTmKe",
        "colab": {
          "base_uri": "https://localhost:8080/"
        },
        "outputId": "e4160ae4-238d-4537-8abe-eded2939c035"
      },
      "source": [
        "!pip install stanza"
      ],
      "execution_count": 1,
      "outputs": [
        {
          "output_type": "stream",
          "text": [
            "Collecting stanza\n",
            "\u001b[?25l  Downloading https://files.pythonhosted.org/packages/50/ae/a70a58ce6b4e2daad538688806ee0f238dbe601954582a74ea57cde6c532/stanza-1.2-py3-none-any.whl (282kB)\n",
            "\r\u001b[K     |█▏                              | 10kB 14.3MB/s eta 0:00:01\r\u001b[K     |██▎                             | 20kB 15.1MB/s eta 0:00:01\r\u001b[K     |███▌                            | 30kB 9.6MB/s eta 0:00:01\r\u001b[K     |████▋                           | 40kB 8.7MB/s eta 0:00:01\r\u001b[K     |█████▉                          | 51kB 5.2MB/s eta 0:00:01\r\u001b[K     |███████                         | 61kB 5.7MB/s eta 0:00:01\r\u001b[K     |████████▏                       | 71kB 6.2MB/s eta 0:00:01\r\u001b[K     |█████████▎                      | 81kB 6.6MB/s eta 0:00:01\r\u001b[K     |██████████▌                     | 92kB 6.1MB/s eta 0:00:01\r\u001b[K     |███████████▋                    | 102kB 6.7MB/s eta 0:00:01\r\u001b[K     |████████████▉                   | 112kB 6.7MB/s eta 0:00:01\r\u001b[K     |██████████████                  | 122kB 6.7MB/s eta 0:00:01\r\u001b[K     |███████████████                 | 133kB 6.7MB/s eta 0:00:01\r\u001b[K     |████████████████▎               | 143kB 6.7MB/s eta 0:00:01\r\u001b[K     |█████████████████▍              | 153kB 6.7MB/s eta 0:00:01\r\u001b[K     |██████████████████▋             | 163kB 6.7MB/s eta 0:00:01\r\u001b[K     |███████████████████▊            | 174kB 6.7MB/s eta 0:00:01\r\u001b[K     |█████████████████████           | 184kB 6.7MB/s eta 0:00:01\r\u001b[K     |██████████████████████          | 194kB 6.7MB/s eta 0:00:01\r\u001b[K     |███████████████████████▎        | 204kB 6.7MB/s eta 0:00:01\r\u001b[K     |████████████████████████▍       | 215kB 6.7MB/s eta 0:00:01\r\u001b[K     |█████████████████████████▋      | 225kB 6.7MB/s eta 0:00:01\r\u001b[K     |██████████████████████████▊     | 235kB 6.7MB/s eta 0:00:01\r\u001b[K     |███████████████████████████▉    | 245kB 6.7MB/s eta 0:00:01\r\u001b[K     |█████████████████████████████   | 256kB 6.7MB/s eta 0:00:01\r\u001b[K     |██████████████████████████████▏ | 266kB 6.7MB/s eta 0:00:01\r\u001b[K     |███████████████████████████████▍| 276kB 6.7MB/s eta 0:00:01\r\u001b[K     |████████████████████████████████| 286kB 6.7MB/s \n",
            "\u001b[?25hRequirement already satisfied: numpy in /usr/local/lib/python3.6/dist-packages (from stanza) (1.19.5)\n",
            "Requirement already satisfied: requests in /usr/local/lib/python3.6/dist-packages (from stanza) (2.23.0)\n",
            "Requirement already satisfied: torch>=1.3.0 in /usr/local/lib/python3.6/dist-packages (from stanza) (1.7.0+cu101)\n",
            "Requirement already satisfied: tqdm in /usr/local/lib/python3.6/dist-packages (from stanza) (4.41.1)\n",
            "Requirement already satisfied: protobuf in /usr/local/lib/python3.6/dist-packages (from stanza) (3.12.4)\n",
            "Requirement already satisfied: certifi>=2017.4.17 in /usr/local/lib/python3.6/dist-packages (from requests->stanza) (2020.12.5)\n",
            "Requirement already satisfied: chardet<4,>=3.0.2 in /usr/local/lib/python3.6/dist-packages (from requests->stanza) (3.0.4)\n",
            "Requirement already satisfied: idna<3,>=2.5 in /usr/local/lib/python3.6/dist-packages (from requests->stanza) (2.10)\n",
            "Requirement already satisfied: urllib3!=1.25.0,!=1.25.1,<1.26,>=1.21.1 in /usr/local/lib/python3.6/dist-packages (from requests->stanza) (1.24.3)\n",
            "Requirement already satisfied: future in /usr/local/lib/python3.6/dist-packages (from torch>=1.3.0->stanza) (0.16.0)\n",
            "Requirement already satisfied: dataclasses in /usr/local/lib/python3.6/dist-packages (from torch>=1.3.0->stanza) (0.8)\n",
            "Requirement already satisfied: typing-extensions in /usr/local/lib/python3.6/dist-packages (from torch>=1.3.0->stanza) (3.7.4.3)\n",
            "Requirement already satisfied: six>=1.9 in /usr/local/lib/python3.6/dist-packages (from protobuf->stanza) (1.15.0)\n",
            "Requirement already satisfied: setuptools in /usr/local/lib/python3.6/dist-packages (from protobuf->stanza) (53.0.0)\n",
            "Installing collected packages: stanza\n",
            "Successfully installed stanza-1.2\n"
          ],
          "name": "stdout"
        }
      ]
    },
    {
      "cell_type": "code",
      "metadata": {
        "id": "yo2dN85xThJK",
        "colab": {
          "base_uri": "https://localhost:8080/"
        },
        "outputId": "8fa7cdfb-0422-489a-dd5a-0bdf5923e057"
      },
      "source": [
        "import stanza\r\n",
        "stanza.download('en') # download the appropriate models \r\n",
        "import pandas as pd"
      ],
      "execution_count": 2,
      "outputs": [
        {
          "output_type": "stream",
          "text": [
            "Downloading https://raw.githubusercontent.com/stanfordnlp/stanza-resources/master/resources_1.2.0.json: 128kB [00:00, 17.6MB/s]                    \n",
            "2021-02-16 14:32:20 INFO: Downloading default packages for language: en (English)...\n",
            "Downloading http://nlp.stanford.edu/software/stanza/1.2.0/en/default.zip: 100%|██████████| 411M/411M [00:11<00:00, 35.6MB/s]\n",
            "2021-02-16 14:32:38 INFO: Finished downloading models and saved to /root/stanza_resources.\n"
          ],
          "name": "stderr"
        }
      ]
    },
    {
      "cell_type": "markdown",
      "metadata": {
        "id": "3Xo06Kl-fCk8"
      },
      "source": [
        "\r\n",
        "<img src=\"https://stanfordnlp.github.io/stanza/assets/images/pipeline.png\" >\r\n",
        "\r\n",
        "\r\n"
      ]
    },
    {
      "cell_type": "markdown",
      "metadata": {
        "id": "vMOp-0nwTtKo"
      },
      "source": [
        "Stanza pipeline contains many processors that depend on each other: \r\n",
        "* tokenize processor, \r\n",
        "* multi-word tokens (MWT) processor, \r\n",
        "* POS processor, \r\n",
        "* lemma processor, \r\n",
        "* depparse processor, \r\n",
        "* NER (named entity recognizer) processor,\r\n",
        "* sentiment processor. \r\n",
        "\r\n",
        "Each of these processors have specific requirements. For example depparse processor needs tokenize, MWT, POS and lemma annotations. \r\n",
        "\r\n",
        "We can define the pipeline as follows: "
      ]
    },
    {
      "cell_type": "code",
      "metadata": {
        "id": "khMwnumiZ61h",
        "colab": {
          "base_uri": "https://localhost:8080/"
        },
        "outputId": "7b82343c-ec9c-4e5f-ba82-fb5fb543d610"
      },
      "source": [
        "nlp = stanza.Pipeline(lang='en', processors='tokenize,pos,lemma,depparse, ner, sentiment') #mwt is not available from official model list\r\n"
      ],
      "execution_count": 3,
      "outputs": [
        {
          "output_type": "stream",
          "text": [
            "2021-02-16 14:34:30 INFO: Loading these models for language: en (English):\n",
            "=========================\n",
            "| Processor | Package   |\n",
            "-------------------------\n",
            "| tokenize  | combined  |\n",
            "| pos       | combined  |\n",
            "| lemma     | combined  |\n",
            "| depparse  | combined  |\n",
            "| sentiment | sstplus   |\n",
            "| ner       | ontonotes |\n",
            "=========================\n",
            "\n",
            "2021-02-16 14:34:30 INFO: Use device: cpu\n",
            "2021-02-16 14:34:30 INFO: Loading: tokenize\n",
            "2021-02-16 14:34:30 INFO: Loading: pos\n",
            "2021-02-16 14:34:31 INFO: Loading: lemma\n",
            "2021-02-16 14:34:31 INFO: Loading: depparse\n",
            "2021-02-16 14:34:31 INFO: Loading: sentiment\n",
            "2021-02-16 14:34:32 INFO: Loading: ner\n",
            "2021-02-16 14:34:33 INFO: Done loading processors!\n"
          ],
          "name": "stderr"
        }
      ]
    },
    {
      "cell_type": "code",
      "metadata": {
        "id": "JnuX7rr5Q8Kl"
      },
      "source": [
        "nlp = stanza.Pipeline(lang='en', processors='depparse') "
      ],
      "execution_count": null,
      "outputs": []
    },
    {
      "cell_type": "code",
      "metadata": {
        "id": "WcfkK5sNomh7",
        "colab": {
          "base_uri": "https://localhost:8080/"
        },
        "outputId": "ba019975-b2d7-46fc-afba-1326c5540bbe"
      },
      "source": [
        "raw_text = (\"The brown fox is quick and he is jumping over the lazy dog\" )\r\n",
        "print(raw_text)"
      ],
      "execution_count": 5,
      "outputs": [
        {
          "output_type": "stream",
          "text": [
            "The brown fox is quick and he is jumping over the lazy dog\n"
          ],
          "name": "stdout"
        }
      ]
    },
    {
      "cell_type": "markdown",
      "metadata": {
        "id": "JyKOIxRtpQvp"
      },
      "source": [
        "Lets analyse this text with Stanza pipeline: "
      ]
    },
    {
      "cell_type": "code",
      "metadata": {
        "id": "MecJR-_-pOtt",
        "colab": {
          "base_uri": "https://localhost:8080/"
        },
        "outputId": "316840c1-05f5-447f-8f77-bc5787c36020"
      },
      "source": [
        "doc = nlp(raw_text)\r\n",
        "print(doc)"
      ],
      "execution_count": 6,
      "outputs": [
        {
          "output_type": "stream",
          "text": [
            "[\n",
            "  [\n",
            "    {\n",
            "      \"id\": 1,\n",
            "      \"text\": \"The\",\n",
            "      \"lemma\": \"the\",\n",
            "      \"upos\": \"DET\",\n",
            "      \"xpos\": \"DT\",\n",
            "      \"feats\": \"Definite=Def|PronType=Art\",\n",
            "      \"head\": 3,\n",
            "      \"deprel\": \"det\",\n",
            "      \"misc\": \"start_char=0|end_char=3\",\n",
            "      \"ner\": \"O\"\n",
            "    },\n",
            "    {\n",
            "      \"id\": 2,\n",
            "      \"text\": \"brown\",\n",
            "      \"lemma\": \"brown\",\n",
            "      \"upos\": \"ADJ\",\n",
            "      \"xpos\": \"JJ\",\n",
            "      \"feats\": \"Degree=Pos\",\n",
            "      \"head\": 3,\n",
            "      \"deprel\": \"amod\",\n",
            "      \"misc\": \"start_char=4|end_char=9\",\n",
            "      \"ner\": \"O\"\n",
            "    },\n",
            "    {\n",
            "      \"id\": 3,\n",
            "      \"text\": \"fox\",\n",
            "      \"lemma\": \"fox\",\n",
            "      \"upos\": \"NOUN\",\n",
            "      \"xpos\": \"NN\",\n",
            "      \"feats\": \"Number=Sing\",\n",
            "      \"head\": 5,\n",
            "      \"deprel\": \"nsubj\",\n",
            "      \"misc\": \"start_char=10|end_char=13\",\n",
            "      \"ner\": \"O\"\n",
            "    },\n",
            "    {\n",
            "      \"id\": 4,\n",
            "      \"text\": \"is\",\n",
            "      \"lemma\": \"be\",\n",
            "      \"upos\": \"AUX\",\n",
            "      \"xpos\": \"VBZ\",\n",
            "      \"feats\": \"Mood=Ind|Number=Sing|Person=3|Tense=Pres|VerbForm=Fin\",\n",
            "      \"head\": 5,\n",
            "      \"deprel\": \"cop\",\n",
            "      \"misc\": \"start_char=14|end_char=16\",\n",
            "      \"ner\": \"O\"\n",
            "    },\n",
            "    {\n",
            "      \"id\": 5,\n",
            "      \"text\": \"quick\",\n",
            "      \"lemma\": \"quick\",\n",
            "      \"upos\": \"ADJ\",\n",
            "      \"xpos\": \"JJ\",\n",
            "      \"feats\": \"Degree=Pos\",\n",
            "      \"head\": 0,\n",
            "      \"deprel\": \"root\",\n",
            "      \"misc\": \"start_char=17|end_char=22\",\n",
            "      \"ner\": \"O\"\n",
            "    },\n",
            "    {\n",
            "      \"id\": 6,\n",
            "      \"text\": \"and\",\n",
            "      \"lemma\": \"and\",\n",
            "      \"upos\": \"CCONJ\",\n",
            "      \"xpos\": \"CC\",\n",
            "      \"head\": 9,\n",
            "      \"deprel\": \"cc\",\n",
            "      \"misc\": \"start_char=23|end_char=26\",\n",
            "      \"ner\": \"O\"\n",
            "    },\n",
            "    {\n",
            "      \"id\": 7,\n",
            "      \"text\": \"he\",\n",
            "      \"lemma\": \"he\",\n",
            "      \"upos\": \"PRON\",\n",
            "      \"xpos\": \"PRP\",\n",
            "      \"feats\": \"Case=Nom|Gender=Masc|Number=Sing|Person=3|PronType=Prs\",\n",
            "      \"head\": 9,\n",
            "      \"deprel\": \"nsubj\",\n",
            "      \"misc\": \"start_char=27|end_char=29\",\n",
            "      \"ner\": \"O\"\n",
            "    },\n",
            "    {\n",
            "      \"id\": 8,\n",
            "      \"text\": \"is\",\n",
            "      \"lemma\": \"be\",\n",
            "      \"upos\": \"AUX\",\n",
            "      \"xpos\": \"VBZ\",\n",
            "      \"feats\": \"Mood=Ind|Number=Sing|Person=3|Tense=Pres|VerbForm=Fin\",\n",
            "      \"head\": 9,\n",
            "      \"deprel\": \"aux\",\n",
            "      \"misc\": \"start_char=30|end_char=32\",\n",
            "      \"ner\": \"O\"\n",
            "    },\n",
            "    {\n",
            "      \"id\": 9,\n",
            "      \"text\": \"jumping\",\n",
            "      \"lemma\": \"jump\",\n",
            "      \"upos\": \"VERB\",\n",
            "      \"xpos\": \"VBG\",\n",
            "      \"feats\": \"Tense=Pres|VerbForm=Part\",\n",
            "      \"head\": 5,\n",
            "      \"deprel\": \"conj\",\n",
            "      \"misc\": \"start_char=33|end_char=40\",\n",
            "      \"ner\": \"O\"\n",
            "    },\n",
            "    {\n",
            "      \"id\": 10,\n",
            "      \"text\": \"over\",\n",
            "      \"lemma\": \"over\",\n",
            "      \"upos\": \"ADP\",\n",
            "      \"xpos\": \"IN\",\n",
            "      \"head\": 13,\n",
            "      \"deprel\": \"case\",\n",
            "      \"misc\": \"start_char=41|end_char=45\",\n",
            "      \"ner\": \"O\"\n",
            "    },\n",
            "    {\n",
            "      \"id\": 11,\n",
            "      \"text\": \"the\",\n",
            "      \"lemma\": \"the\",\n",
            "      \"upos\": \"DET\",\n",
            "      \"xpos\": \"DT\",\n",
            "      \"feats\": \"Definite=Def|PronType=Art\",\n",
            "      \"head\": 13,\n",
            "      \"deprel\": \"det\",\n",
            "      \"misc\": \"start_char=46|end_char=49\",\n",
            "      \"ner\": \"O\"\n",
            "    },\n",
            "    {\n",
            "      \"id\": 12,\n",
            "      \"text\": \"lazy\",\n",
            "      \"lemma\": \"lazy\",\n",
            "      \"upos\": \"ADJ\",\n",
            "      \"xpos\": \"JJ\",\n",
            "      \"feats\": \"Degree=Pos\",\n",
            "      \"head\": 13,\n",
            "      \"deprel\": \"amod\",\n",
            "      \"misc\": \"start_char=50|end_char=54\",\n",
            "      \"ner\": \"O\"\n",
            "    },\n",
            "    {\n",
            "      \"id\": 13,\n",
            "      \"text\": \"dog\",\n",
            "      \"lemma\": \"dog\",\n",
            "      \"upos\": \"NOUN\",\n",
            "      \"xpos\": \"NN\",\n",
            "      \"feats\": \"Number=Sing\",\n",
            "      \"head\": 9,\n",
            "      \"deprel\": \"obl\",\n",
            "      \"misc\": \"start_char=55|end_char=58\",\n",
            "      \"ner\": \"O\"\n",
            "    }\n",
            "  ]\n",
            "]\n"
          ],
          "name": "stdout"
        }
      ]
    },
    {
      "cell_type": "markdown",
      "metadata": {
        "id": "14JMm5u3rUzV"
      },
      "source": [
        "After analysis, the pipeline gives you the Document object.\r\n",
        "Document has the following properties: text, sentences, entities, num_tokens, num_words. A Sentence objects inside Document represents a sentence, this object contains a list of Tokens. \r\n",
        "\r\n"
      ]
    },
    {
      "cell_type": "code",
      "metadata": {
        "id": "weHOyJE8rB5x",
        "colab": {
          "base_uri": "https://localhost:8080/"
        },
        "outputId": "33c2a4a5-bf94-4d6c-db4d-ddd755b6434c"
      },
      "source": [
        "print(f\"Text: {doc.sentences[0].text}\")\r\n",
        "print(f\"Dependencies: {doc.sentences[0].dependencies[0]}\")\r\n",
        "print(f\"Tokens: {doc.sentences[0].tokens[0]}\")\r\n",
        "print(f\"Words: {doc.sentences[0].words[0]}\")\r\n",
        "print(f\"XPOS: {doc.sentences[0].words[0].xpos}\")\r\n",
        "print(f\"Entities: {doc.sentences[0].entities}\")\r\n",
        "print(f\"Sentiment: {doc.sentences[0].sentiment}\") # Available for English, Chinese, German"
      ],
      "execution_count": 12,
      "outputs": [
        {
          "output_type": "stream",
          "text": [
            "Text: The brown fox is quick and he is jumping over the lazy dog\n",
            "Dependencies: ({\n",
            "  \"id\": 3,\n",
            "  \"text\": \"fox\",\n",
            "  \"lemma\": \"fox\",\n",
            "  \"upos\": \"NOUN\",\n",
            "  \"xpos\": \"NN\",\n",
            "  \"feats\": \"Number=Sing\",\n",
            "  \"head\": 5,\n",
            "  \"deprel\": \"nsubj\",\n",
            "  \"misc\": \"start_char=10|end_char=13\"\n",
            "}, 'det', {\n",
            "  \"id\": 1,\n",
            "  \"text\": \"The\",\n",
            "  \"lemma\": \"the\",\n",
            "  \"upos\": \"DET\",\n",
            "  \"xpos\": \"DT\",\n",
            "  \"feats\": \"Definite=Def|PronType=Art\",\n",
            "  \"head\": 3,\n",
            "  \"deprel\": \"det\",\n",
            "  \"misc\": \"start_char=0|end_char=3\"\n",
            "})\n",
            "Tokens: [\n",
            "  {\n",
            "    \"id\": 1,\n",
            "    \"text\": \"The\",\n",
            "    \"lemma\": \"the\",\n",
            "    \"upos\": \"DET\",\n",
            "    \"xpos\": \"DT\",\n",
            "    \"feats\": \"Definite=Def|PronType=Art\",\n",
            "    \"head\": 3,\n",
            "    \"deprel\": \"det\",\n",
            "    \"misc\": \"start_char=0|end_char=3\",\n",
            "    \"ner\": \"O\"\n",
            "  }\n",
            "]\n",
            "Words: {\n",
            "  \"id\": 1,\n",
            "  \"text\": \"The\",\n",
            "  \"lemma\": \"the\",\n",
            "  \"upos\": \"DET\",\n",
            "  \"xpos\": \"DT\",\n",
            "  \"feats\": \"Definite=Def|PronType=Art\",\n",
            "  \"head\": 3,\n",
            "  \"deprel\": \"det\",\n",
            "  \"misc\": \"start_char=0|end_char=3\"\n",
            "}\n",
            "XPOS: DT\n",
            "Entities: []\n",
            "Sentiment: 1\n"
          ],
          "name": "stdout"
        }
      ]
    },
    {
      "cell_type": "markdown",
      "metadata": {
        "id": "VpBPkT5FrA5m"
      },
      "source": [
        " Finally, a Word object has all the analysis results, that can be accesses with the following attributes: id, text, lemma, xpos, upos, feats (morphological features), head , deprel (dependency relation between this word and its head), and misc .\r\n",
        "\r\n",
        "### Part of Speech \r\n",
        "Parts of speech (POS) are specific lexical categories to which words are assigned based\r\n",
        "on their syntactic context and role. \r\n",
        "The main POS are nouns, verbs, adjectives, and\r\n",
        "adverbs. The process of classifying and labeling POS tags for words is defined as parts of\r\n",
        "speech tagging (POS tagging).\r\n",
        "\r\n",
        "Stanza outputs universal POS (UPOS) and language sepcific POS (XPOS). \r\n",
        "\r\n"
      ]
    },
    {
      "cell_type": "code",
      "metadata": {
        "id": "fj_feYfKi-UZ",
        "colab": {
          "base_uri": "https://localhost:8080/",
          "height": 142
        },
        "outputId": "bba4cfa2-8322-42f0-fb5d-cfaddfa0ad95"
      },
      "source": [
        "pos_tagged = [ (word.text, word.upos, word.xpos) for word in doc.sentences[0].words]\r\n",
        "pd.DataFrame(pos_tagged, columns=['Word', 'UPOS', 'XPOS']).T"
      ],
      "execution_count": 13,
      "outputs": [
        {
          "output_type": "execute_result",
          "data": {
            "text/html": [
              "<div>\n",
              "<style scoped>\n",
              "    .dataframe tbody tr th:only-of-type {\n",
              "        vertical-align: middle;\n",
              "    }\n",
              "\n",
              "    .dataframe tbody tr th {\n",
              "        vertical-align: top;\n",
              "    }\n",
              "\n",
              "    .dataframe thead th {\n",
              "        text-align: right;\n",
              "    }\n",
              "</style>\n",
              "<table border=\"1\" class=\"dataframe\">\n",
              "  <thead>\n",
              "    <tr style=\"text-align: right;\">\n",
              "      <th></th>\n",
              "      <th>0</th>\n",
              "      <th>1</th>\n",
              "      <th>2</th>\n",
              "      <th>3</th>\n",
              "      <th>4</th>\n",
              "      <th>5</th>\n",
              "      <th>6</th>\n",
              "      <th>7</th>\n",
              "      <th>8</th>\n",
              "      <th>9</th>\n",
              "      <th>10</th>\n",
              "      <th>11</th>\n",
              "      <th>12</th>\n",
              "    </tr>\n",
              "  </thead>\n",
              "  <tbody>\n",
              "    <tr>\n",
              "      <th>Word</th>\n",
              "      <td>The</td>\n",
              "      <td>brown</td>\n",
              "      <td>fox</td>\n",
              "      <td>is</td>\n",
              "      <td>quick</td>\n",
              "      <td>and</td>\n",
              "      <td>he</td>\n",
              "      <td>is</td>\n",
              "      <td>jumping</td>\n",
              "      <td>over</td>\n",
              "      <td>the</td>\n",
              "      <td>lazy</td>\n",
              "      <td>dog</td>\n",
              "    </tr>\n",
              "    <tr>\n",
              "      <th>UPOS</th>\n",
              "      <td>DET</td>\n",
              "      <td>ADJ</td>\n",
              "      <td>NOUN</td>\n",
              "      <td>AUX</td>\n",
              "      <td>ADJ</td>\n",
              "      <td>CCONJ</td>\n",
              "      <td>PRON</td>\n",
              "      <td>AUX</td>\n",
              "      <td>VERB</td>\n",
              "      <td>ADP</td>\n",
              "      <td>DET</td>\n",
              "      <td>ADJ</td>\n",
              "      <td>NOUN</td>\n",
              "    </tr>\n",
              "    <tr>\n",
              "      <th>XPOS</th>\n",
              "      <td>DT</td>\n",
              "      <td>JJ</td>\n",
              "      <td>NN</td>\n",
              "      <td>VBZ</td>\n",
              "      <td>JJ</td>\n",
              "      <td>CC</td>\n",
              "      <td>PRP</td>\n",
              "      <td>VBZ</td>\n",
              "      <td>VBG</td>\n",
              "      <td>IN</td>\n",
              "      <td>DT</td>\n",
              "      <td>JJ</td>\n",
              "      <td>NN</td>\n",
              "    </tr>\n",
              "  </tbody>\n",
              "</table>\n",
              "</div>"
            ],
            "text/plain": [
              "       0      1     2    3      4      5   ...   7        8     9    10    11    12\n",
              "Word  The  brown   fox   is  quick    and  ...   is  jumping  over  the  lazy   dog\n",
              "UPOS  DET    ADJ  NOUN  AUX    ADJ  CCONJ  ...  AUX     VERB   ADP  DET   ADJ  NOUN\n",
              "XPOS   DT     JJ    NN  VBZ     JJ     CC  ...  VBZ      VBG    IN   DT    JJ    NN\n",
              "\n",
              "[3 rows x 13 columns]"
            ]
          },
          "metadata": {
            "tags": []
          },
          "execution_count": 13
        }
      ]
    },
    {
      "cell_type": "markdown",
      "metadata": {
        "id": "KIMeVMQkTvvF"
      },
      "source": [
        "1\tRaudsepa\tRaud_sepp\tPROPN\tO\tCase=Gen|Number=Sing\t2\tnmod\tstart_char=0|end_char=8\t_\r\n",
        "2\ttalus\ttalu\tNOUN\tO\tCase=Ine|Number=Sing\t3\tobl\tstart_char=9|end_char=14\t_\r\n",
        "3\tsülemlesid\tsülema\tVERB\tO\tMood=Ind|Number=Plur|Person=3|Tense=Past|VerbForm=Fin|Voice=Act\t0\troot\tstart_char=15|end_char=25\t_\r\n",
        "4\tmesilased\tmesilane\tNOUN\tO\tCase=Nom|Number=Plur\t3\tnsubj\tstart_char=26|end_char=35\t_\r\n",
        "5\ttopeltsülemis\ttopelt_sülem\tNOUN\tO\tCase=Ine|Number=Sing\t3\tobl\tstart_char=36|end_char=49\t_\r\n",
        "6\t.\t.\tPUNCT\tO\t_\t3\tpunct\tstart_char=50|end_char=51\t_\r\n",
        "\r\n",
        "1\tVIIO\tViiO\tPROPN\tB-PER\tCase=Nom|Number=Sing\t0\troot\tstart_char=0|end_char=4\t_\r\n",
        "2\tAITSAM\tAitsam\tPROPN\tB-PER\tCase=Nom|Number=Sing\t1\tflat\tstart_char=5|end_char=11\t_\r\n",
        "\r\n",
        "1\tKa\tka\tADV\tO\t_\t3\tadvmod\tstart_char=0|end_char=2\t_\r\n",
        "2\thalval\thalb\tADJ\tO\tCase=Ade|Degree=Pos|Number=Sing\t3\tamod\tstart_char=3|end_char=9\t_\r\n",
        "3\tlapsel\tlaps\tNOUN\tO\tCase=Ade|Number=Sing\t0\troot\tstart_char=10|end_char=16\t_\r\n",
        "4\ton\tolema\tAUX\tO\tMood=Ind|Number=Sing|Person=3|Tense=Pres|VerbForm=Fin|Voice=Act\t3\tcop\tstart_char=17|end_char=19\t_\r\n",
        "5\tmitu\tmitu\tDET\tO\tCase=Nom|Number=Sing|PronType=Ind\t6\tdet\tstart_char=20|end_char=24\t_\r\n",
        "6\tnime\tnimi\tNOUN\tO\tCase=Par|Number=Sing\t3\tnsubj:cop\tstart_char=25|end_char=29\t_\r\n"
      ]
    },
    {
      "cell_type": "markdown",
      "metadata": {
        "id": "WThpymp1lOdR"
      },
      "source": [
        "### Morphological Tagging\r\n",
        "By definition, a morpheme is the smallest unit of\r\n",
        "language that has distinctive meaning. This includes things like\r\n",
        "words, prefixes, suffixes, and so on, which have their own distinct\r\n",
        "meaning. Morphology is the study of the structure and meaning of\r\n",
        "these distinctive units or morphemes in a language. There are specific\r\n",
        "rules and syntaxes that govern the way morphemes can combine. For example, the word unbreakable is composed of three morphemes: \r\n",
        "* *un* - a bound morpheme signifying *not*\r\n",
        "* *break* - the root morpheme \r\n",
        "* *able* - a free morpheme signifying *can be done*\r\n",
        "\r\n",
        "In the UD corpora, these attributes are annotated as feature-value pairs for each\r\n",
        "token."
      ]
    },
    {
      "cell_type": "code",
      "metadata": {
        "id": "qGbfoK9ZlrAu",
        "colab": {
          "base_uri": "https://localhost:8080/",
          "height": 452
        },
        "outputId": "f4e63780-52cf-4c37-9d38-c8eb6d7d2121"
      },
      "source": [
        "morph_tagged = [(word.text, word.feats) for word in doc.sentences[0].words]\r\n",
        "pd.DataFrame(morph_tagged, columns=['Word', 'Feats'])"
      ],
      "execution_count": 14,
      "outputs": [
        {
          "output_type": "execute_result",
          "data": {
            "text/html": [
              "<div>\n",
              "<style scoped>\n",
              "    .dataframe tbody tr th:only-of-type {\n",
              "        vertical-align: middle;\n",
              "    }\n",
              "\n",
              "    .dataframe tbody tr th {\n",
              "        vertical-align: top;\n",
              "    }\n",
              "\n",
              "    .dataframe thead th {\n",
              "        text-align: right;\n",
              "    }\n",
              "</style>\n",
              "<table border=\"1\" class=\"dataframe\">\n",
              "  <thead>\n",
              "    <tr style=\"text-align: right;\">\n",
              "      <th></th>\n",
              "      <th>Word</th>\n",
              "      <th>Feats</th>\n",
              "    </tr>\n",
              "  </thead>\n",
              "  <tbody>\n",
              "    <tr>\n",
              "      <th>0</th>\n",
              "      <td>The</td>\n",
              "      <td>Definite=Def|PronType=Art</td>\n",
              "    </tr>\n",
              "    <tr>\n",
              "      <th>1</th>\n",
              "      <td>brown</td>\n",
              "      <td>Degree=Pos</td>\n",
              "    </tr>\n",
              "    <tr>\n",
              "      <th>2</th>\n",
              "      <td>fox</td>\n",
              "      <td>Number=Sing</td>\n",
              "    </tr>\n",
              "    <tr>\n",
              "      <th>3</th>\n",
              "      <td>is</td>\n",
              "      <td>Mood=Ind|Number=Sing|Person=3|Tense=Pres|VerbF...</td>\n",
              "    </tr>\n",
              "    <tr>\n",
              "      <th>4</th>\n",
              "      <td>quick</td>\n",
              "      <td>Degree=Pos</td>\n",
              "    </tr>\n",
              "    <tr>\n",
              "      <th>5</th>\n",
              "      <td>and</td>\n",
              "      <td>None</td>\n",
              "    </tr>\n",
              "    <tr>\n",
              "      <th>6</th>\n",
              "      <td>he</td>\n",
              "      <td>Case=Nom|Gender=Masc|Number=Sing|Person=3|Pron...</td>\n",
              "    </tr>\n",
              "    <tr>\n",
              "      <th>7</th>\n",
              "      <td>is</td>\n",
              "      <td>Mood=Ind|Number=Sing|Person=3|Tense=Pres|VerbF...</td>\n",
              "    </tr>\n",
              "    <tr>\n",
              "      <th>8</th>\n",
              "      <td>jumping</td>\n",
              "      <td>Tense=Pres|VerbForm=Part</td>\n",
              "    </tr>\n",
              "    <tr>\n",
              "      <th>9</th>\n",
              "      <td>over</td>\n",
              "      <td>None</td>\n",
              "    </tr>\n",
              "    <tr>\n",
              "      <th>10</th>\n",
              "      <td>the</td>\n",
              "      <td>Definite=Def|PronType=Art</td>\n",
              "    </tr>\n",
              "    <tr>\n",
              "      <th>11</th>\n",
              "      <td>lazy</td>\n",
              "      <td>Degree=Pos</td>\n",
              "    </tr>\n",
              "    <tr>\n",
              "      <th>12</th>\n",
              "      <td>dog</td>\n",
              "      <td>Number=Sing</td>\n",
              "    </tr>\n",
              "  </tbody>\n",
              "</table>\n",
              "</div>"
            ],
            "text/plain": [
              "       Word                                              Feats\n",
              "0       The                          Definite=Def|PronType=Art\n",
              "1     brown                                         Degree=Pos\n",
              "2       fox                                        Number=Sing\n",
              "3        is  Mood=Ind|Number=Sing|Person=3|Tense=Pres|VerbF...\n",
              "4     quick                                         Degree=Pos\n",
              "5       and                                               None\n",
              "6        he  Case=Nom|Gender=Masc|Number=Sing|Person=3|Pron...\n",
              "7        is  Mood=Ind|Number=Sing|Person=3|Tense=Pres|VerbF...\n",
              "8   jumping                           Tense=Pres|VerbForm=Part\n",
              "9      over                                               None\n",
              "10      the                          Definite=Def|PronType=Art\n",
              "11     lazy                                         Degree=Pos\n",
              "12      dog                                        Number=Sing"
            ]
          },
          "metadata": {
            "tags": []
          },
          "execution_count": 14
        }
      ]
    },
    {
      "cell_type": "markdown",
      "metadata": {
        "id": "wvV8CbFBlrX9"
      },
      "source": [
        "### Dependency Parsing\r\n",
        "\r\n",
        "Syntax usually envolves the study of sentences, phrases, words, and\r\n",
        "their structures. This includes researching how words are combined\r\n",
        "grammatically to form phrases and sentences. Syntactic order of\r\n",
        "words used in a phrase or a sentence matter since the order can\r\n",
        "change the meaning entirely.\r\n",
        "\r\n",
        "In dependency-based parsing, we try to use dependency-based grammars to analyze\r\n",
        "and infer both structure and semantic dependencies and relationships between tokens\r\n",
        "in a sentence.\r\n",
        "\r\n",
        "The basic principle behind a dependency grammar is that in any sentence in the\r\n",
        "language, all words except one have some relationship or dependency on other words\r\n",
        "in the sentence. The word that has no dependency is called the root of the sentence. The\r\n",
        "verb is taken as the root of the sentence in most cases. All the other words are directly or\r\n",
        "indirectly linked to the root verb using links , which are the dependencies\r\n",
        "\r\n",
        "Stanza outputs the head and deprel, head being the head of the word, which is either value of ID or zero (meaning that the word is the root), and deprel being the relation to the head. \r\n",
        "\r\n"
      ]
    },
    {
      "cell_type": "code",
      "metadata": {
        "id": "4SyhiUt0nds3",
        "colab": {
          "base_uri": "https://localhost:8080/",
          "height": 142
        },
        "outputId": "28b058b8-d0d3-4f4d-f4da-f28dda56b2c0"
      },
      "source": [
        "synt_tagged = [(word.text, word.head, word.deprel) for word in doc.sentences[0].words]\r\n",
        "pd.DataFrame(synt_tagged, columns=['Word', 'Head', 'Deprel']).T"
      ],
      "execution_count": 15,
      "outputs": [
        {
          "output_type": "execute_result",
          "data": {
            "text/html": [
              "<div>\n",
              "<style scoped>\n",
              "    .dataframe tbody tr th:only-of-type {\n",
              "        vertical-align: middle;\n",
              "    }\n",
              "\n",
              "    .dataframe tbody tr th {\n",
              "        vertical-align: top;\n",
              "    }\n",
              "\n",
              "    .dataframe thead th {\n",
              "        text-align: right;\n",
              "    }\n",
              "</style>\n",
              "<table border=\"1\" class=\"dataframe\">\n",
              "  <thead>\n",
              "    <tr style=\"text-align: right;\">\n",
              "      <th></th>\n",
              "      <th>0</th>\n",
              "      <th>1</th>\n",
              "      <th>2</th>\n",
              "      <th>3</th>\n",
              "      <th>4</th>\n",
              "      <th>5</th>\n",
              "      <th>6</th>\n",
              "      <th>7</th>\n",
              "      <th>8</th>\n",
              "      <th>9</th>\n",
              "      <th>10</th>\n",
              "      <th>11</th>\n",
              "      <th>12</th>\n",
              "    </tr>\n",
              "  </thead>\n",
              "  <tbody>\n",
              "    <tr>\n",
              "      <th>Word</th>\n",
              "      <td>The</td>\n",
              "      <td>brown</td>\n",
              "      <td>fox</td>\n",
              "      <td>is</td>\n",
              "      <td>quick</td>\n",
              "      <td>and</td>\n",
              "      <td>he</td>\n",
              "      <td>is</td>\n",
              "      <td>jumping</td>\n",
              "      <td>over</td>\n",
              "      <td>the</td>\n",
              "      <td>lazy</td>\n",
              "      <td>dog</td>\n",
              "    </tr>\n",
              "    <tr>\n",
              "      <th>Head</th>\n",
              "      <td>3</td>\n",
              "      <td>3</td>\n",
              "      <td>5</td>\n",
              "      <td>5</td>\n",
              "      <td>0</td>\n",
              "      <td>9</td>\n",
              "      <td>9</td>\n",
              "      <td>9</td>\n",
              "      <td>5</td>\n",
              "      <td>13</td>\n",
              "      <td>13</td>\n",
              "      <td>13</td>\n",
              "      <td>9</td>\n",
              "    </tr>\n",
              "    <tr>\n",
              "      <th>Deprel</th>\n",
              "      <td>det</td>\n",
              "      <td>amod</td>\n",
              "      <td>nsubj</td>\n",
              "      <td>cop</td>\n",
              "      <td>root</td>\n",
              "      <td>cc</td>\n",
              "      <td>nsubj</td>\n",
              "      <td>aux</td>\n",
              "      <td>conj</td>\n",
              "      <td>case</td>\n",
              "      <td>det</td>\n",
              "      <td>amod</td>\n",
              "      <td>obl</td>\n",
              "    </tr>\n",
              "  </tbody>\n",
              "</table>\n",
              "</div>"
            ],
            "text/plain": [
              "         0      1      2    3      4    5   ...   7        8     9    10    11   12\n",
              "Word    The  brown    fox   is  quick  and  ...   is  jumping  over  the  lazy  dog\n",
              "Head      3      3      5    5      0    9  ...    9        5    13   13    13    9\n",
              "Deprel  det   amod  nsubj  cop   root   cc  ...  aux     conj  case  det  amod  obl\n",
              "\n",
              "[3 rows x 13 columns]"
            ]
          },
          "metadata": {
            "tags": []
          },
          "execution_count": 15
        }
      ]
    },
    {
      "cell_type": "markdown",
      "metadata": {
        "id": "84zFSHCgyGxF"
      },
      "source": [
        "We can also visualize the dependency syntax tree using SpaCy: "
      ]
    },
    {
      "cell_type": "code",
      "metadata": {
        "id": "qo0Cde3TyGP1"
      },
      "source": [
        "import spacy\r\n",
        "from spacy import displacy\r\n",
        "!python -m spacy download en_core_web_sm\r\n"
      ],
      "execution_count": null,
      "outputs": []
    },
    {
      "cell_type": "code",
      "metadata": {
        "id": "VWoowxd2yPNX",
        "colab": {
          "base_uri": "https://localhost:8080/",
          "height": 358
        },
        "outputId": "ebdd4637-9778-41f8-80c9-cb0141409e33"
      },
      "source": [
        "nlp_spacy =  spacy.load(\"en_core_web_sm\")\r\n",
        "displacy.render(nlp_spacy(raw_text), jupyter=True, options={'distance':100, 'arrow_stroke':1.5, 'arrow_width':8})"
      ],
      "execution_count": 17,
      "outputs": [
        {
          "output_type": "display_data",
          "data": {
            "text/html": [
              "<span class=\"tex2jax_ignore\"><svg xmlns=\"http://www.w3.org/2000/svg\" xmlns:xlink=\"http://www.w3.org/1999/xlink\" xml:lang=\"en\" id=\"d92ea45211834d8d8580f9a0df7e3bbc-0\" class=\"displacy\" width=\"1350\" height=\"336.5\" direction=\"ltr\" style=\"max-width: none; height: 336.5px; color: #000000; background: #ffffff; font-family: Arial; direction: ltr\">\n",
              "<text class=\"displacy-token\" fill=\"currentColor\" text-anchor=\"middle\" y=\"246.5\">\n",
              "    <tspan class=\"displacy-word\" fill=\"currentColor\" x=\"50\">The</tspan>\n",
              "    <tspan class=\"displacy-tag\" dy=\"2em\" fill=\"currentColor\" x=\"50\">DET</tspan>\n",
              "</text>\n",
              "\n",
              "<text class=\"displacy-token\" fill=\"currentColor\" text-anchor=\"middle\" y=\"246.5\">\n",
              "    <tspan class=\"displacy-word\" fill=\"currentColor\" x=\"150\">brown</tspan>\n",
              "    <tspan class=\"displacy-tag\" dy=\"2em\" fill=\"currentColor\" x=\"150\">ADJ</tspan>\n",
              "</text>\n",
              "\n",
              "<text class=\"displacy-token\" fill=\"currentColor\" text-anchor=\"middle\" y=\"246.5\">\n",
              "    <tspan class=\"displacy-word\" fill=\"currentColor\" x=\"250\">fox</tspan>\n",
              "    <tspan class=\"displacy-tag\" dy=\"2em\" fill=\"currentColor\" x=\"250\">NOUN</tspan>\n",
              "</text>\n",
              "\n",
              "<text class=\"displacy-token\" fill=\"currentColor\" text-anchor=\"middle\" y=\"246.5\">\n",
              "    <tspan class=\"displacy-word\" fill=\"currentColor\" x=\"350\">is</tspan>\n",
              "    <tspan class=\"displacy-tag\" dy=\"2em\" fill=\"currentColor\" x=\"350\">AUX</tspan>\n",
              "</text>\n",
              "\n",
              "<text class=\"displacy-token\" fill=\"currentColor\" text-anchor=\"middle\" y=\"246.5\">\n",
              "    <tspan class=\"displacy-word\" fill=\"currentColor\" x=\"450\">quick</tspan>\n",
              "    <tspan class=\"displacy-tag\" dy=\"2em\" fill=\"currentColor\" x=\"450\">ADJ</tspan>\n",
              "</text>\n",
              "\n",
              "<text class=\"displacy-token\" fill=\"currentColor\" text-anchor=\"middle\" y=\"246.5\">\n",
              "    <tspan class=\"displacy-word\" fill=\"currentColor\" x=\"550\">and</tspan>\n",
              "    <tspan class=\"displacy-tag\" dy=\"2em\" fill=\"currentColor\" x=\"550\">CCONJ</tspan>\n",
              "</text>\n",
              "\n",
              "<text class=\"displacy-token\" fill=\"currentColor\" text-anchor=\"middle\" y=\"246.5\">\n",
              "    <tspan class=\"displacy-word\" fill=\"currentColor\" x=\"650\">he</tspan>\n",
              "    <tspan class=\"displacy-tag\" dy=\"2em\" fill=\"currentColor\" x=\"650\">PRON</tspan>\n",
              "</text>\n",
              "\n",
              "<text class=\"displacy-token\" fill=\"currentColor\" text-anchor=\"middle\" y=\"246.5\">\n",
              "    <tspan class=\"displacy-word\" fill=\"currentColor\" x=\"750\">is</tspan>\n",
              "    <tspan class=\"displacy-tag\" dy=\"2em\" fill=\"currentColor\" x=\"750\">AUX</tspan>\n",
              "</text>\n",
              "\n",
              "<text class=\"displacy-token\" fill=\"currentColor\" text-anchor=\"middle\" y=\"246.5\">\n",
              "    <tspan class=\"displacy-word\" fill=\"currentColor\" x=\"850\">jumping</tspan>\n",
              "    <tspan class=\"displacy-tag\" dy=\"2em\" fill=\"currentColor\" x=\"850\">VERB</tspan>\n",
              "</text>\n",
              "\n",
              "<text class=\"displacy-token\" fill=\"currentColor\" text-anchor=\"middle\" y=\"246.5\">\n",
              "    <tspan class=\"displacy-word\" fill=\"currentColor\" x=\"950\">over</tspan>\n",
              "    <tspan class=\"displacy-tag\" dy=\"2em\" fill=\"currentColor\" x=\"950\">ADP</tspan>\n",
              "</text>\n",
              "\n",
              "<text class=\"displacy-token\" fill=\"currentColor\" text-anchor=\"middle\" y=\"246.5\">\n",
              "    <tspan class=\"displacy-word\" fill=\"currentColor\" x=\"1050\">the</tspan>\n",
              "    <tspan class=\"displacy-tag\" dy=\"2em\" fill=\"currentColor\" x=\"1050\">DET</tspan>\n",
              "</text>\n",
              "\n",
              "<text class=\"displacy-token\" fill=\"currentColor\" text-anchor=\"middle\" y=\"246.5\">\n",
              "    <tspan class=\"displacy-word\" fill=\"currentColor\" x=\"1150\">lazy</tspan>\n",
              "    <tspan class=\"displacy-tag\" dy=\"2em\" fill=\"currentColor\" x=\"1150\">ADJ</tspan>\n",
              "</text>\n",
              "\n",
              "<text class=\"displacy-token\" fill=\"currentColor\" text-anchor=\"middle\" y=\"246.5\">\n",
              "    <tspan class=\"displacy-word\" fill=\"currentColor\" x=\"1250\">dog</tspan>\n",
              "    <tspan class=\"displacy-tag\" dy=\"2em\" fill=\"currentColor\" x=\"1250\">NOUN</tspan>\n",
              "</text>\n",
              "\n",
              "<g class=\"displacy-arrow\">\n",
              "    <path class=\"displacy-arc\" id=\"arrow-d92ea45211834d8d8580f9a0df7e3bbc-0-0\" stroke-width=\"1.5px\" d=\"M70,201.5 C70,101.5 240.0,101.5 240.0,201.5\" fill=\"none\" stroke=\"currentColor\"/>\n",
              "    <text dy=\"1.25em\" style=\"font-size: 0.8em; letter-spacing: 1px\">\n",
              "        <textPath xlink:href=\"#arrow-d92ea45211834d8d8580f9a0df7e3bbc-0-0\" class=\"displacy-label\" startOffset=\"50%\" side=\"left\" fill=\"currentColor\" text-anchor=\"middle\">det</textPath>\n",
              "    </text>\n",
              "    <path class=\"displacy-arrowhead\" d=\"M70,203.5 L64,193.5 76,193.5\" fill=\"currentColor\"/>\n",
              "</g>\n",
              "\n",
              "<g class=\"displacy-arrow\">\n",
              "    <path class=\"displacy-arc\" id=\"arrow-d92ea45211834d8d8580f9a0df7e3bbc-0-1\" stroke-width=\"1.5px\" d=\"M170,201.5 C170,151.5 235.0,151.5 235.0,201.5\" fill=\"none\" stroke=\"currentColor\"/>\n",
              "    <text dy=\"1.25em\" style=\"font-size: 0.8em; letter-spacing: 1px\">\n",
              "        <textPath xlink:href=\"#arrow-d92ea45211834d8d8580f9a0df7e3bbc-0-1\" class=\"displacy-label\" startOffset=\"50%\" side=\"left\" fill=\"currentColor\" text-anchor=\"middle\">amod</textPath>\n",
              "    </text>\n",
              "    <path class=\"displacy-arrowhead\" d=\"M170,203.5 L164,193.5 176,193.5\" fill=\"currentColor\"/>\n",
              "</g>\n",
              "\n",
              "<g class=\"displacy-arrow\">\n",
              "    <path class=\"displacy-arc\" id=\"arrow-d92ea45211834d8d8580f9a0df7e3bbc-0-2\" stroke-width=\"1.5px\" d=\"M270,201.5 C270,151.5 335.0,151.5 335.0,201.5\" fill=\"none\" stroke=\"currentColor\"/>\n",
              "    <text dy=\"1.25em\" style=\"font-size: 0.8em; letter-spacing: 1px\">\n",
              "        <textPath xlink:href=\"#arrow-d92ea45211834d8d8580f9a0df7e3bbc-0-2\" class=\"displacy-label\" startOffset=\"50%\" side=\"left\" fill=\"currentColor\" text-anchor=\"middle\">nsubj</textPath>\n",
              "    </text>\n",
              "    <path class=\"displacy-arrowhead\" d=\"M270,203.5 L264,193.5 276,193.5\" fill=\"currentColor\"/>\n",
              "</g>\n",
              "\n",
              "<g class=\"displacy-arrow\">\n",
              "    <path class=\"displacy-arc\" id=\"arrow-d92ea45211834d8d8580f9a0df7e3bbc-0-3\" stroke-width=\"1.5px\" d=\"M370,201.5 C370,151.5 435.0,151.5 435.0,201.5\" fill=\"none\" stroke=\"currentColor\"/>\n",
              "    <text dy=\"1.25em\" style=\"font-size: 0.8em; letter-spacing: 1px\">\n",
              "        <textPath xlink:href=\"#arrow-d92ea45211834d8d8580f9a0df7e3bbc-0-3\" class=\"displacy-label\" startOffset=\"50%\" side=\"left\" fill=\"currentColor\" text-anchor=\"middle\">acomp</textPath>\n",
              "    </text>\n",
              "    <path class=\"displacy-arrowhead\" d=\"M435.0,203.5 L441.0,193.5 429.0,193.5\" fill=\"currentColor\"/>\n",
              "</g>\n",
              "\n",
              "<g class=\"displacy-arrow\">\n",
              "    <path class=\"displacy-arc\" id=\"arrow-d92ea45211834d8d8580f9a0df7e3bbc-0-4\" stroke-width=\"1.5px\" d=\"M370,201.5 C370,101.5 540.0,101.5 540.0,201.5\" fill=\"none\" stroke=\"currentColor\"/>\n",
              "    <text dy=\"1.25em\" style=\"font-size: 0.8em; letter-spacing: 1px\">\n",
              "        <textPath xlink:href=\"#arrow-d92ea45211834d8d8580f9a0df7e3bbc-0-4\" class=\"displacy-label\" startOffset=\"50%\" side=\"left\" fill=\"currentColor\" text-anchor=\"middle\">cc</textPath>\n",
              "    </text>\n",
              "    <path class=\"displacy-arrowhead\" d=\"M540.0,203.5 L546.0,193.5 534.0,193.5\" fill=\"currentColor\"/>\n",
              "</g>\n",
              "\n",
              "<g class=\"displacy-arrow\">\n",
              "    <path class=\"displacy-arc\" id=\"arrow-d92ea45211834d8d8580f9a0df7e3bbc-0-5\" stroke-width=\"1.5px\" d=\"M670,201.5 C670,101.5 840.0,101.5 840.0,201.5\" fill=\"none\" stroke=\"currentColor\"/>\n",
              "    <text dy=\"1.25em\" style=\"font-size: 0.8em; letter-spacing: 1px\">\n",
              "        <textPath xlink:href=\"#arrow-d92ea45211834d8d8580f9a0df7e3bbc-0-5\" class=\"displacy-label\" startOffset=\"50%\" side=\"left\" fill=\"currentColor\" text-anchor=\"middle\">nsubj</textPath>\n",
              "    </text>\n",
              "    <path class=\"displacy-arrowhead\" d=\"M670,203.5 L664,193.5 676,193.5\" fill=\"currentColor\"/>\n",
              "</g>\n",
              "\n",
              "<g class=\"displacy-arrow\">\n",
              "    <path class=\"displacy-arc\" id=\"arrow-d92ea45211834d8d8580f9a0df7e3bbc-0-6\" stroke-width=\"1.5px\" d=\"M770,201.5 C770,151.5 835.0,151.5 835.0,201.5\" fill=\"none\" stroke=\"currentColor\"/>\n",
              "    <text dy=\"1.25em\" style=\"font-size: 0.8em; letter-spacing: 1px\">\n",
              "        <textPath xlink:href=\"#arrow-d92ea45211834d8d8580f9a0df7e3bbc-0-6\" class=\"displacy-label\" startOffset=\"50%\" side=\"left\" fill=\"currentColor\" text-anchor=\"middle\">aux</textPath>\n",
              "    </text>\n",
              "    <path class=\"displacy-arrowhead\" d=\"M770,203.5 L764,193.5 776,193.5\" fill=\"currentColor\"/>\n",
              "</g>\n",
              "\n",
              "<g class=\"displacy-arrow\">\n",
              "    <path class=\"displacy-arc\" id=\"arrow-d92ea45211834d8d8580f9a0df7e3bbc-0-7\" stroke-width=\"1.5px\" d=\"M370,201.5 C370,1.5 850.0,1.5 850.0,201.5\" fill=\"none\" stroke=\"currentColor\"/>\n",
              "    <text dy=\"1.25em\" style=\"font-size: 0.8em; letter-spacing: 1px\">\n",
              "        <textPath xlink:href=\"#arrow-d92ea45211834d8d8580f9a0df7e3bbc-0-7\" class=\"displacy-label\" startOffset=\"50%\" side=\"left\" fill=\"currentColor\" text-anchor=\"middle\">conj</textPath>\n",
              "    </text>\n",
              "    <path class=\"displacy-arrowhead\" d=\"M850.0,203.5 L856.0,193.5 844.0,193.5\" fill=\"currentColor\"/>\n",
              "</g>\n",
              "\n",
              "<g class=\"displacy-arrow\">\n",
              "    <path class=\"displacy-arc\" id=\"arrow-d92ea45211834d8d8580f9a0df7e3bbc-0-8\" stroke-width=\"1.5px\" d=\"M870,201.5 C870,151.5 935.0,151.5 935.0,201.5\" fill=\"none\" stroke=\"currentColor\"/>\n",
              "    <text dy=\"1.25em\" style=\"font-size: 0.8em; letter-spacing: 1px\">\n",
              "        <textPath xlink:href=\"#arrow-d92ea45211834d8d8580f9a0df7e3bbc-0-8\" class=\"displacy-label\" startOffset=\"50%\" side=\"left\" fill=\"currentColor\" text-anchor=\"middle\">prep</textPath>\n",
              "    </text>\n",
              "    <path class=\"displacy-arrowhead\" d=\"M935.0,203.5 L941.0,193.5 929.0,193.5\" fill=\"currentColor\"/>\n",
              "</g>\n",
              "\n",
              "<g class=\"displacy-arrow\">\n",
              "    <path class=\"displacy-arc\" id=\"arrow-d92ea45211834d8d8580f9a0df7e3bbc-0-9\" stroke-width=\"1.5px\" d=\"M1070,201.5 C1070,101.5 1240.0,101.5 1240.0,201.5\" fill=\"none\" stroke=\"currentColor\"/>\n",
              "    <text dy=\"1.25em\" style=\"font-size: 0.8em; letter-spacing: 1px\">\n",
              "        <textPath xlink:href=\"#arrow-d92ea45211834d8d8580f9a0df7e3bbc-0-9\" class=\"displacy-label\" startOffset=\"50%\" side=\"left\" fill=\"currentColor\" text-anchor=\"middle\">det</textPath>\n",
              "    </text>\n",
              "    <path class=\"displacy-arrowhead\" d=\"M1070,203.5 L1064,193.5 1076,193.5\" fill=\"currentColor\"/>\n",
              "</g>\n",
              "\n",
              "<g class=\"displacy-arrow\">\n",
              "    <path class=\"displacy-arc\" id=\"arrow-d92ea45211834d8d8580f9a0df7e3bbc-0-10\" stroke-width=\"1.5px\" d=\"M1170,201.5 C1170,151.5 1235.0,151.5 1235.0,201.5\" fill=\"none\" stroke=\"currentColor\"/>\n",
              "    <text dy=\"1.25em\" style=\"font-size: 0.8em; letter-spacing: 1px\">\n",
              "        <textPath xlink:href=\"#arrow-d92ea45211834d8d8580f9a0df7e3bbc-0-10\" class=\"displacy-label\" startOffset=\"50%\" side=\"left\" fill=\"currentColor\" text-anchor=\"middle\">amod</textPath>\n",
              "    </text>\n",
              "    <path class=\"displacy-arrowhead\" d=\"M1170,203.5 L1164,193.5 1176,193.5\" fill=\"currentColor\"/>\n",
              "</g>\n",
              "\n",
              "<g class=\"displacy-arrow\">\n",
              "    <path class=\"displacy-arc\" id=\"arrow-d92ea45211834d8d8580f9a0df7e3bbc-0-11\" stroke-width=\"1.5px\" d=\"M970,201.5 C970,51.5 1245.0,51.5 1245.0,201.5\" fill=\"none\" stroke=\"currentColor\"/>\n",
              "    <text dy=\"1.25em\" style=\"font-size: 0.8em; letter-spacing: 1px\">\n",
              "        <textPath xlink:href=\"#arrow-d92ea45211834d8d8580f9a0df7e3bbc-0-11\" class=\"displacy-label\" startOffset=\"50%\" side=\"left\" fill=\"currentColor\" text-anchor=\"middle\">pobj</textPath>\n",
              "    </text>\n",
              "    <path class=\"displacy-arrowhead\" d=\"M1245.0,203.5 L1251.0,193.5 1239.0,193.5\" fill=\"currentColor\"/>\n",
              "</g>\n",
              "</svg></span>"
            ],
            "text/plain": [
              "<IPython.core.display.HTML object>"
            ]
          },
          "metadata": {
            "tags": []
          }
        }
      ]
    },
    {
      "cell_type": "markdown",
      "metadata": {
        "id": "GkdodVcInd6A"
      },
      "source": [
        "### Named Entity Recognition\r\n",
        "\r\n",
        "A classical problem in information extraction is to recognize and extract mentions of\r\n",
        "named entities in text. In news documents, the core entity types are people, locations, and\r\n",
        "organizations; more recently, the task has been extended to include amounts of money,\r\n",
        "percentages, dates, and times.\r\n",
        "\r\n",
        "Usually BIO notation is used for named entity recognition. Each token at the\r\n",
        "beginning of a name span is labeled with a B- prefix; each token within a name span is labeled with an I- prefix. These prefixes are followed by a tag for the entity type, e.g. B-LOC\r\n",
        "for the beginning of a location. Tokens\r\n",
        "that are not parts of name spans are labeled as O.\r\n",
        "\r\n",
        "Stanza uses BIOES representation, where E denotes ending and S denotes single element. "
      ]
    },
    {
      "cell_type": "code",
      "metadata": {
        "id": "V-4ijn14ntDW",
        "colab": {
          "base_uri": "https://localhost:8080/",
          "height": 111
        },
        "outputId": "ea4b21fc-65e5-4d21-9ee8-bc98fc7e56cf"
      },
      "source": [
        "ner_text = \"The U.S. Army captured Atlanta on May 14, 1864.\"\r\n",
        "ner_doc = nlp(ner_text)\r\n",
        "ner_tagged = [(word.text, word.ner) for word in ner_doc.sentences[0].tokens]\r\n",
        "pd.DataFrame(ner_tagged, columns=['Word', 'NER']).T"
      ],
      "execution_count": 25,
      "outputs": [
        {
          "output_type": "execute_result",
          "data": {
            "text/html": [
              "<div>\n",
              "<style scoped>\n",
              "    .dataframe tbody tr th:only-of-type {\n",
              "        vertical-align: middle;\n",
              "    }\n",
              "\n",
              "    .dataframe tbody tr th {\n",
              "        vertical-align: top;\n",
              "    }\n",
              "\n",
              "    .dataframe thead th {\n",
              "        text-align: right;\n",
              "    }\n",
              "</style>\n",
              "<table border=\"1\" class=\"dataframe\">\n",
              "  <thead>\n",
              "    <tr style=\"text-align: right;\">\n",
              "      <th></th>\n",
              "      <th>0</th>\n",
              "      <th>1</th>\n",
              "      <th>2</th>\n",
              "      <th>3</th>\n",
              "      <th>4</th>\n",
              "      <th>5</th>\n",
              "      <th>6</th>\n",
              "      <th>7</th>\n",
              "      <th>8</th>\n",
              "      <th>9</th>\n",
              "      <th>10</th>\n",
              "    </tr>\n",
              "  </thead>\n",
              "  <tbody>\n",
              "    <tr>\n",
              "      <th>Word</th>\n",
              "      <td>The</td>\n",
              "      <td>U.S.</td>\n",
              "      <td>Army</td>\n",
              "      <td>captured</td>\n",
              "      <td>Atlanta</td>\n",
              "      <td>on</td>\n",
              "      <td>May</td>\n",
              "      <td>14</td>\n",
              "      <td>,</td>\n",
              "      <td>1864</td>\n",
              "      <td>.</td>\n",
              "    </tr>\n",
              "    <tr>\n",
              "      <th>NER</th>\n",
              "      <td>B-ORG</td>\n",
              "      <td>I-ORG</td>\n",
              "      <td>E-ORG</td>\n",
              "      <td>O</td>\n",
              "      <td>S-GPE</td>\n",
              "      <td>O</td>\n",
              "      <td>B-DATE</td>\n",
              "      <td>I-DATE</td>\n",
              "      <td>I-DATE</td>\n",
              "      <td>E-DATE</td>\n",
              "      <td>O</td>\n",
              "    </tr>\n",
              "  </tbody>\n",
              "</table>\n",
              "</div>"
            ],
            "text/plain": [
              "         0      1      2         3        4   ...      6       7       8       9  10\n",
              "Word    The   U.S.   Army  captured  Atlanta  ...     May      14       ,    1864  .\n",
              "NER   B-ORG  I-ORG  E-ORG         O    S-GPE  ...  B-DATE  I-DATE  I-DATE  E-DATE  O\n",
              "\n",
              "[2 rows x 11 columns]"
            ]
          },
          "metadata": {
            "tags": []
          },
          "execution_count": 25
        }
      ]
    },
    {
      "cell_type": "markdown",
      "metadata": {
        "id": "pgxXCoJ8pZBL"
      },
      "source": [
        "Now we can put the whole output in [ConNLL-U format](https://universaldependencies.org/format.html): "
      ]
    },
    {
      "cell_type": "code",
      "metadata": {
        "id": "8FwlK4URxho2",
        "colab": {
          "base_uri": "https://localhost:8080/",
          "height": 452
        },
        "outputId": "35b786f0-6327-479c-9314-12c1ff74f701"
      },
      "source": [
        "columns = ['ID', 'FORM', 'LEMMA', 'UPOS', 'XPOS', 'FEATS', 'HEAD', 'DEPREL', 'DEPS', 'MISC']\r\n",
        "tagged = [(word.id, word.text, word.lemma, word.upos, word.xpos, word.feats, word.head, word.deprel, word.deps, word.misc) for word in doc.sentences[0].words]\r\n",
        "pd.DataFrame(tagged, columns=columns)"
      ],
      "execution_count": 26,
      "outputs": [
        {
          "output_type": "execute_result",
          "data": {
            "text/html": [
              "<div>\n",
              "<style scoped>\n",
              "    .dataframe tbody tr th:only-of-type {\n",
              "        vertical-align: middle;\n",
              "    }\n",
              "\n",
              "    .dataframe tbody tr th {\n",
              "        vertical-align: top;\n",
              "    }\n",
              "\n",
              "    .dataframe thead th {\n",
              "        text-align: right;\n",
              "    }\n",
              "</style>\n",
              "<table border=\"1\" class=\"dataframe\">\n",
              "  <thead>\n",
              "    <tr style=\"text-align: right;\">\n",
              "      <th></th>\n",
              "      <th>ID</th>\n",
              "      <th>FORM</th>\n",
              "      <th>LEMMA</th>\n",
              "      <th>UPOS</th>\n",
              "      <th>XPOS</th>\n",
              "      <th>FEATS</th>\n",
              "      <th>HEAD</th>\n",
              "      <th>DEPREL</th>\n",
              "      <th>DEPS</th>\n",
              "      <th>MISC</th>\n",
              "    </tr>\n",
              "  </thead>\n",
              "  <tbody>\n",
              "    <tr>\n",
              "      <th>0</th>\n",
              "      <td>1</td>\n",
              "      <td>The</td>\n",
              "      <td>the</td>\n",
              "      <td>DET</td>\n",
              "      <td>DT</td>\n",
              "      <td>Definite=Def|PronType=Art</td>\n",
              "      <td>3</td>\n",
              "      <td>det</td>\n",
              "      <td>None</td>\n",
              "      <td>start_char=0|end_char=3</td>\n",
              "    </tr>\n",
              "    <tr>\n",
              "      <th>1</th>\n",
              "      <td>2</td>\n",
              "      <td>brown</td>\n",
              "      <td>brown</td>\n",
              "      <td>ADJ</td>\n",
              "      <td>JJ</td>\n",
              "      <td>Degree=Pos</td>\n",
              "      <td>3</td>\n",
              "      <td>amod</td>\n",
              "      <td>None</td>\n",
              "      <td>start_char=4|end_char=9</td>\n",
              "    </tr>\n",
              "    <tr>\n",
              "      <th>2</th>\n",
              "      <td>3</td>\n",
              "      <td>fox</td>\n",
              "      <td>fox</td>\n",
              "      <td>NOUN</td>\n",
              "      <td>NN</td>\n",
              "      <td>Number=Sing</td>\n",
              "      <td>5</td>\n",
              "      <td>nsubj</td>\n",
              "      <td>None</td>\n",
              "      <td>start_char=10|end_char=13</td>\n",
              "    </tr>\n",
              "    <tr>\n",
              "      <th>3</th>\n",
              "      <td>4</td>\n",
              "      <td>is</td>\n",
              "      <td>be</td>\n",
              "      <td>AUX</td>\n",
              "      <td>VBZ</td>\n",
              "      <td>Mood=Ind|Number=Sing|Person=3|Tense=Pres|VerbF...</td>\n",
              "      <td>5</td>\n",
              "      <td>cop</td>\n",
              "      <td>None</td>\n",
              "      <td>start_char=14|end_char=16</td>\n",
              "    </tr>\n",
              "    <tr>\n",
              "      <th>4</th>\n",
              "      <td>5</td>\n",
              "      <td>quick</td>\n",
              "      <td>quick</td>\n",
              "      <td>ADJ</td>\n",
              "      <td>JJ</td>\n",
              "      <td>Degree=Pos</td>\n",
              "      <td>0</td>\n",
              "      <td>root</td>\n",
              "      <td>None</td>\n",
              "      <td>start_char=17|end_char=22</td>\n",
              "    </tr>\n",
              "    <tr>\n",
              "      <th>5</th>\n",
              "      <td>6</td>\n",
              "      <td>and</td>\n",
              "      <td>and</td>\n",
              "      <td>CCONJ</td>\n",
              "      <td>CC</td>\n",
              "      <td>None</td>\n",
              "      <td>9</td>\n",
              "      <td>cc</td>\n",
              "      <td>None</td>\n",
              "      <td>start_char=23|end_char=26</td>\n",
              "    </tr>\n",
              "    <tr>\n",
              "      <th>6</th>\n",
              "      <td>7</td>\n",
              "      <td>he</td>\n",
              "      <td>he</td>\n",
              "      <td>PRON</td>\n",
              "      <td>PRP</td>\n",
              "      <td>Case=Nom|Gender=Masc|Number=Sing|Person=3|Pron...</td>\n",
              "      <td>9</td>\n",
              "      <td>nsubj</td>\n",
              "      <td>None</td>\n",
              "      <td>start_char=27|end_char=29</td>\n",
              "    </tr>\n",
              "    <tr>\n",
              "      <th>7</th>\n",
              "      <td>8</td>\n",
              "      <td>is</td>\n",
              "      <td>be</td>\n",
              "      <td>AUX</td>\n",
              "      <td>VBZ</td>\n",
              "      <td>Mood=Ind|Number=Sing|Person=3|Tense=Pres|VerbF...</td>\n",
              "      <td>9</td>\n",
              "      <td>aux</td>\n",
              "      <td>None</td>\n",
              "      <td>start_char=30|end_char=32</td>\n",
              "    </tr>\n",
              "    <tr>\n",
              "      <th>8</th>\n",
              "      <td>9</td>\n",
              "      <td>jumping</td>\n",
              "      <td>jump</td>\n",
              "      <td>VERB</td>\n",
              "      <td>VBG</td>\n",
              "      <td>Tense=Pres|VerbForm=Part</td>\n",
              "      <td>5</td>\n",
              "      <td>conj</td>\n",
              "      <td>None</td>\n",
              "      <td>start_char=33|end_char=40</td>\n",
              "    </tr>\n",
              "    <tr>\n",
              "      <th>9</th>\n",
              "      <td>10</td>\n",
              "      <td>over</td>\n",
              "      <td>over</td>\n",
              "      <td>ADP</td>\n",
              "      <td>IN</td>\n",
              "      <td>None</td>\n",
              "      <td>13</td>\n",
              "      <td>case</td>\n",
              "      <td>None</td>\n",
              "      <td>start_char=41|end_char=45</td>\n",
              "    </tr>\n",
              "    <tr>\n",
              "      <th>10</th>\n",
              "      <td>11</td>\n",
              "      <td>the</td>\n",
              "      <td>the</td>\n",
              "      <td>DET</td>\n",
              "      <td>DT</td>\n",
              "      <td>Definite=Def|PronType=Art</td>\n",
              "      <td>13</td>\n",
              "      <td>det</td>\n",
              "      <td>None</td>\n",
              "      <td>start_char=46|end_char=49</td>\n",
              "    </tr>\n",
              "    <tr>\n",
              "      <th>11</th>\n",
              "      <td>12</td>\n",
              "      <td>lazy</td>\n",
              "      <td>lazy</td>\n",
              "      <td>ADJ</td>\n",
              "      <td>JJ</td>\n",
              "      <td>Degree=Pos</td>\n",
              "      <td>13</td>\n",
              "      <td>amod</td>\n",
              "      <td>None</td>\n",
              "      <td>start_char=50|end_char=54</td>\n",
              "    </tr>\n",
              "    <tr>\n",
              "      <th>12</th>\n",
              "      <td>13</td>\n",
              "      <td>dog</td>\n",
              "      <td>dog</td>\n",
              "      <td>NOUN</td>\n",
              "      <td>NN</td>\n",
              "      <td>Number=Sing</td>\n",
              "      <td>9</td>\n",
              "      <td>obl</td>\n",
              "      <td>None</td>\n",
              "      <td>start_char=55|end_char=58</td>\n",
              "    </tr>\n",
              "  </tbody>\n",
              "</table>\n",
              "</div>"
            ],
            "text/plain": [
              "    ID     FORM  LEMMA   UPOS  ... HEAD DEPREL  DEPS                       MISC\n",
              "0    1      The    the    DET  ...    3    det  None    start_char=0|end_char=3\n",
              "1    2    brown  brown    ADJ  ...    3   amod  None    start_char=4|end_char=9\n",
              "2    3      fox    fox   NOUN  ...    5  nsubj  None  start_char=10|end_char=13\n",
              "3    4       is     be    AUX  ...    5    cop  None  start_char=14|end_char=16\n",
              "4    5    quick  quick    ADJ  ...    0   root  None  start_char=17|end_char=22\n",
              "5    6      and    and  CCONJ  ...    9     cc  None  start_char=23|end_char=26\n",
              "6    7       he     he   PRON  ...    9  nsubj  None  start_char=27|end_char=29\n",
              "7    8       is     be    AUX  ...    9    aux  None  start_char=30|end_char=32\n",
              "8    9  jumping   jump   VERB  ...    5   conj  None  start_char=33|end_char=40\n",
              "9   10     over   over    ADP  ...   13   case  None  start_char=41|end_char=45\n",
              "10  11      the    the    DET  ...   13    det  None  start_char=46|end_char=49\n",
              "11  12     lazy   lazy    ADJ  ...   13   amod  None  start_char=50|end_char=54\n",
              "12  13      dog    dog   NOUN  ...    9    obl  None  start_char=55|end_char=58\n",
              "\n",
              "[13 rows x 10 columns]"
            ]
          },
          "metadata": {
            "tags": []
          },
          "execution_count": 26
        }
      ]
    },
    {
      "cell_type": "markdown",
      "metadata": {
        "id": "IJJNzsuHBHyA"
      },
      "source": [
        "### Performance \r\n",
        "\r\n",
        "You can check the performance for other treebanks [here](https://stanfordnlp.github.io/stanza/performance.html). "
      ]
    },
    {
      "cell_type": "code",
      "metadata": {
        "colab": {
          "base_uri": "https://localhost:8080/",
          "height": 159
        },
        "id": "HO_dnlw6BOH8",
        "outputId": "57722eed-41de-42d7-8f16-956d1694fe82"
      },
      "source": [
        "columns = ['Treebank','Tokens', 'Sentences', 'UPOS', 'XPOS', 'Feats', 'UAS', 'LAS', 'LEMMAS']\r\n",
        "results = [('UD_English-EWT', 99.01,\t81.13, 95.4,\t95.12, 96.11, 86.22,\t83.59,\t97.21),\r\n",
        "           ('UD_Estonian-EDT', 99.96, 93.32, 97.19,98.04, 95.77,86.68, 83.82, 96.05 ), \r\n",
        "           ('UD_Russian-SynTagRus',99.57,\t98.86, 98.2,\t99.57,\t95.91, \t92.38,\t90.6 ,97.51)]\r\n",
        "pd.DataFrame(results, columns=columns)"
      ],
      "execution_count": null,
      "outputs": [
        {
          "output_type": "execute_result",
          "data": {
            "text/html": [
              "<div>\n",
              "<style scoped>\n",
              "    .dataframe tbody tr th:only-of-type {\n",
              "        vertical-align: middle;\n",
              "    }\n",
              "\n",
              "    .dataframe tbody tr th {\n",
              "        vertical-align: top;\n",
              "    }\n",
              "\n",
              "    .dataframe thead th {\n",
              "        text-align: right;\n",
              "    }\n",
              "</style>\n",
              "<table border=\"1\" class=\"dataframe\">\n",
              "  <thead>\n",
              "    <tr style=\"text-align: right;\">\n",
              "      <th></th>\n",
              "      <th>Treebank</th>\n",
              "      <th>Tokens</th>\n",
              "      <th>Sentences</th>\n",
              "      <th>UPOS</th>\n",
              "      <th>XPOS</th>\n",
              "      <th>Feats</th>\n",
              "      <th>UAS</th>\n",
              "      <th>LAS</th>\n",
              "      <th>LEMMAS</th>\n",
              "    </tr>\n",
              "  </thead>\n",
              "  <tbody>\n",
              "    <tr>\n",
              "      <th>0</th>\n",
              "      <td>UD_English-EWT</td>\n",
              "      <td>99.01</td>\n",
              "      <td>81.13</td>\n",
              "      <td>95.40</td>\n",
              "      <td>95.12</td>\n",
              "      <td>96.11</td>\n",
              "      <td>86.22</td>\n",
              "      <td>83.59</td>\n",
              "      <td>97.21</td>\n",
              "    </tr>\n",
              "    <tr>\n",
              "      <th>1</th>\n",
              "      <td>UD_Estonian-EDT</td>\n",
              "      <td>99.96</td>\n",
              "      <td>93.32</td>\n",
              "      <td>97.19</td>\n",
              "      <td>98.04</td>\n",
              "      <td>95.77</td>\n",
              "      <td>86.68</td>\n",
              "      <td>83.82</td>\n",
              "      <td>96.05</td>\n",
              "    </tr>\n",
              "    <tr>\n",
              "      <th>2</th>\n",
              "      <td>UD_Russian-SynTagRus</td>\n",
              "      <td>99.57</td>\n",
              "      <td>98.86</td>\n",
              "      <td>98.20</td>\n",
              "      <td>99.57</td>\n",
              "      <td>95.91</td>\n",
              "      <td>92.38</td>\n",
              "      <td>90.60</td>\n",
              "      <td>97.51</td>\n",
              "    </tr>\n",
              "  </tbody>\n",
              "</table>\n",
              "</div>"
            ],
            "text/plain": [
              "               Treebank  Tokens  Sentences   UPOS  ...  Feats    UAS    LAS  LEMMAS\n",
              "0        UD_English-EWT   99.01      81.13  95.40  ...  96.11  86.22  83.59   97.21\n",
              "1       UD_Estonian-EDT   99.96      93.32  97.19  ...  95.77  86.68  83.82   96.05\n",
              "2  UD_Russian-SynTagRus   99.57      98.86  98.20  ...  95.91  92.38  90.60   97.51\n",
              "\n",
              "[3 rows x 9 columns]"
            ]
          },
          "metadata": {
            "tags": []
          },
          "execution_count": 8
        }
      ]
    },
    {
      "cell_type": "markdown",
      "metadata": {
        "id": "sRrwrbvmrhGP"
      },
      "source": [
        "What can we now do with all of this information? \r\n",
        "\r\n",
        "1. Input to another task in NLP like summarization, information extraction, machine translation etc. \r\n",
        "2. Extract some phrases, sentences (for example, extract NOUN-VERB pairs for further analysis like clustering) \r\n",
        "3. any more ideas? \r\n",
        "\r\n",
        "Why it might be a bad idea to use pretrained pipelines? \r\n",
        "\r\n",
        "\r\n",
        "\r\n"
      ]
    },
    {
      "cell_type": "markdown",
      "metadata": {
        "id": "v0NHpBwoAA9P"
      },
      "source": [
        "### Analysing movie \"The Room\"\r\n",
        "Let's analyse one of the greatest movies of all time \"The Room\" by Tommy Wiseau.\r\n",
        "\r\n",
        "We know that the main character Johnny shot himself dead in the end. The question is can we see that his mood changes from his text."
      ]
    },
    {
      "cell_type": "code",
      "metadata": {
        "id": "4ZnKELA1AEiD"
      },
      "source": [
        "johnny_lines = []\r\n",
        "with  open('the_room.txt', 'r', encoding='utf-8') as f: \r\n",
        "  for line in f: \r\n",
        "    if line.startswith('Johnny:'):\r\n",
        "      johnny_lines.append(line.strip().replace('Johnny:', ''))\r\n",
        "    "
      ],
      "execution_count": 27,
      "outputs": []
    },
    {
      "cell_type": "code",
      "metadata": {
        "id": "5LBe1Q65ASLV",
        "colab": {
          "base_uri": "https://localhost:8080/"
        },
        "outputId": "2efbfc6c-4f50-4aef-80a9-533b249d8cde"
      },
      "source": [
        "johnny_lines[0], johnny_lines[-1]"
      ],
      "execution_count": 28,
      "outputs": [
        {
          "output_type": "execute_result",
          "data": {
            "text/plain": [
              "(' Hi babe! I have something for you.',\n",
              " ' Why? Why is this happening to me? Why?! It’s over. God, forgive me.')"
            ]
          },
          "metadata": {
            "tags": []
          },
          "execution_count": 28
        }
      ]
    },
    {
      "cell_type": "code",
      "metadata": {
        "id": "sShDBiXJAP0K",
        "colab": {
          "base_uri": "https://localhost:8080/",
          "height": 66,
          "referenced_widgets": [
            "1a6710e5d97247168a38cbe8fc8a946a",
            "a4b39ea499924e6c9b8e5a00862deb7c",
            "1f0b17d0e2db44a3a5f147c7bf16dd14",
            "6e2e190fc8734bed8d5eb9aee048c82e",
            "8734fceabbfc4d1d8c558b68e68f05fc",
            "105e72360a8840eca03f85a3d4ac3543",
            "e189d03fc7a2461badb2c2958a42fb2e",
            "276dd3262b134721b625b77df0c1c122"
          ]
        },
        "outputId": "29a8fe0f-3237-42fd-85d2-99b697915415"
      },
      "source": [
        "from tqdm.notebook import tqdm\r\n",
        "\r\n",
        "analysed_lines = []\r\n",
        "for johnny_line in tqdm(johnny_lines): \r\n",
        "  doc = nlp(johnny_line)\r\n",
        "  analysed_lines.append(sum([sent.sentiment for sent in doc.sentences])/len(doc.sentences))"
      ],
      "execution_count": 29,
      "outputs": [
        {
          "output_type": "display_data",
          "data": {
            "application/vnd.jupyter.widget-view+json": {
              "model_id": "1a6710e5d97247168a38cbe8fc8a946a",
              "version_minor": 0,
              "version_major": 2
            },
            "text/plain": [
              "HBox(children=(FloatProgress(value=0.0, max=204.0), HTML(value='')))"
            ]
          },
          "metadata": {
            "tags": []
          }
        },
        {
          "output_type": "stream",
          "text": [
            "\n"
          ],
          "name": "stdout"
        }
      ]
    },
    {
      "cell_type": "code",
      "metadata": {
        "colab": {
          "base_uri": "https://localhost:8080/",
          "height": 282
        },
        "id": "1KTvdDQdiRD7",
        "outputId": "316e55e9-3886-4d50-8682-6dd727d5f319"
      },
      "source": [
        "plt.plot(analysed_lines)"
      ],
      "execution_count": 36,
      "outputs": [
        {
          "output_type": "execute_result",
          "data": {
            "text/plain": [
              "[<matplotlib.lines.Line2D at 0x7f2ef020b4e0>]"
            ]
          },
          "metadata": {
            "tags": []
          },
          "execution_count": 36
        },
        {
          "output_type": "display_data",
          "data": {
            "image/png": "[encoded data removed]",
            "text/plain": [
              "<Figure size 432x288 with 1 Axes>"
            ]
          },
          "metadata": {
            "tags": [],
            "needs_background": "light"
          }
        }
      ]
    },
    {
      "cell_type": "code",
      "metadata": {
        "id": "_50J0ApGAbdK",
        "colab": {
          "base_uri": "https://localhost:8080/",
          "height": 1000
        },
        "outputId": "569868db-ac45-42f4-a8e0-ed5b43f226dd"
      },
      "source": [
        "import matplotlib.pyplot as plt\r\n",
        "plt.hist(analysed_lines, bins=len(analysed_lines))"
      ],
      "execution_count": 35,
      "outputs": [
        {
          "output_type": "execute_result",
          "data": {
            "text/plain": [
              "(array([ 13.,   0.,   0.,   0.,   0.,   0.,   0.,   0.,   0.,   0.,   0.,\n",
              "          0.,   0.,   0.,   0.,   0.,   0.,   1.,   0.,   0.,   0.,   0.,\n",
              "          0.,   0.,   0.,   0.,   0.,   0.,   0.,   0.,   0.,   0.,   0.,\n",
              "          0.,   2.,   0.,   0.,   0.,   0.,   0.,   0.,   0.,   0.,   0.,\n",
              "          0.,   0.,   0.,   0.,   0.,   0.,   0.,  10.,   0.,   0.,   0.,\n",
              "          0.,   0.,   0.,   0.,   0.,   0.,   1.,   0.,   0.,   0.,   0.,\n",
              "          0.,   0.,   6.,   0.,   0.,   0.,   0.,   0.,   0.,   0.,   1.,\n",
              "          0.,   0.,   0.,   0.,   1.,   0.,   0.,   0.,   0.,   0.,   0.,\n",
              "          0.,   0.,   0.,   0.,   0.,   0.,   0.,   0.,   0.,   0.,   0.,\n",
              "          0.,   0.,   0., 128.,   0.,   0.,   0.,   0.,   0.,   0.,   0.,\n",
              "          0.,   0.,   0.,   0.,   0.,   0.,   0.,   0.,   0.,   1.,   0.,\n",
              "          0.,   0.,   0.,   0.,   0.,   0.,   1.,   0.,   0.,   0.,   0.,\n",
              "          0.,   0.,   0.,   0.,   2.,   0.,   0.,   0.,   0.,   0.,   0.,\n",
              "          0.,   0.,   0.,   0.,   0.,   0.,   0.,   0.,   0.,   0.,  11.,\n",
              "          0.,   0.,   0.,   0.,   0.,   0.,   0.,   0.,   0.,   0.,   0.,\n",
              "          0.,   0.,   0.,   0.,   0.,   2.,   0.,   0.,   0.,   0.,   0.,\n",
              "          0.,   0.,   0.,   0.,   0.,   0.,   0.,   0.,   0.,   0.,   0.,\n",
              "          0.,   0.,   0.,   0.,   0.,   0.,   0.,   0.,   0.,   0.,   0.,\n",
              "          0.,   0.,   0.,   0.,   0.,  24.]),\n",
              " array([0.        , 0.00980392, 0.01960784, 0.02941176, 0.03921569,\n",
              "        0.04901961, 0.05882353, 0.06862745, 0.07843137, 0.08823529,\n",
              "        0.09803922, 0.10784314, 0.11764706, 0.12745098, 0.1372549 ,\n",
              "        0.14705882, 0.15686275, 0.16666667, 0.17647059, 0.18627451,\n",
              "        0.19607843, 0.20588235, 0.21568627, 0.2254902 , 0.23529412,\n",
              "        0.24509804, 0.25490196, 0.26470588, 0.2745098 , 0.28431373,\n",
              "        0.29411765, 0.30392157, 0.31372549, 0.32352941, 0.33333333,\n",
              "        0.34313725, 0.35294118, 0.3627451 , 0.37254902, 0.38235294,\n",
              "        0.39215686, 0.40196078, 0.41176471, 0.42156863, 0.43137255,\n",
              "        0.44117647, 0.45098039, 0.46078431, 0.47058824, 0.48039216,\n",
              "        0.49019608, 0.5       , 0.50980392, 0.51960784, 0.52941176,\n",
              "        0.53921569, 0.54901961, 0.55882353, 0.56862745, 0.57843137,\n",
              "        0.58823529, 0.59803922, 0.60784314, 0.61764706, 0.62745098,\n",
              "        0.6372549 , 0.64705882, 0.65686275, 0.66666667, 0.67647059,\n",
              "        0.68627451, 0.69607843, 0.70588235, 0.71568627, 0.7254902 ,\n",
              "        0.73529412, 0.74509804, 0.75490196, 0.76470588, 0.7745098 ,\n",
              "        0.78431373, 0.79411765, 0.80392157, 0.81372549, 0.82352941,\n",
              "        0.83333333, 0.84313725, 0.85294118, 0.8627451 , 0.87254902,\n",
              "        0.88235294, 0.89215686, 0.90196078, 0.91176471, 0.92156863,\n",
              "        0.93137255, 0.94117647, 0.95098039, 0.96078431, 0.97058824,\n",
              "        0.98039216, 0.99019608, 1.        , 1.00980392, 1.01960784,\n",
              "        1.02941176, 1.03921569, 1.04901961, 1.05882353, 1.06862745,\n",
              "        1.07843137, 1.08823529, 1.09803922, 1.10784314, 1.11764706,\n",
              "        1.12745098, 1.1372549 , 1.14705882, 1.15686275, 1.16666667,\n",
              "        1.17647059, 1.18627451, 1.19607843, 1.20588235, 1.21568627,\n",
              "        1.2254902 , 1.23529412, 1.24509804, 1.25490196, 1.26470588,\n",
              "        1.2745098 , 1.28431373, 1.29411765, 1.30392157, 1.31372549,\n",
              "        1.32352941, 1.33333333, 1.34313725, 1.35294118, 1.3627451 ,\n",
              "        1.37254902, 1.38235294, 1.39215686, 1.40196078, 1.41176471,\n",
              "        1.42156863, 1.43137255, 1.44117647, 1.45098039, 1.46078431,\n",
              "        1.47058824, 1.48039216, 1.49019608, 1.5       , 1.50980392,\n",
              "        1.51960784, 1.52941176, 1.53921569, 1.54901961, 1.55882353,\n",
              "        1.56862745, 1.57843137, 1.58823529, 1.59803922, 1.60784314,\n",
              "        1.61764706, 1.62745098, 1.6372549 , 1.64705882, 1.65686275,\n",
              "        1.66666667, 1.67647059, 1.68627451, 1.69607843, 1.70588235,\n",
              "        1.71568627, 1.7254902 , 1.73529412, 1.74509804, 1.75490196,\n",
              "        1.76470588, 1.7745098 , 1.78431373, 1.79411765, 1.80392157,\n",
              "        1.81372549, 1.82352941, 1.83333333, 1.84313725, 1.85294118,\n",
              "        1.8627451 , 1.87254902, 1.88235294, 1.89215686, 1.90196078,\n",
              "        1.91176471, 1.92156863, 1.93137255, 1.94117647, 1.95098039,\n",
              "        1.96078431, 1.97058824, 1.98039216, 1.99019608, 2.        ]),\n",
              " <a list of 204 Patch objects>)"
            ]
          },
          "metadata": {
            "tags": []
          },
          "execution_count": 35
        },
        {
          "output_type": "display_data",
          "data": {
            "image/png": "[encoded data removed]",
            "text/plain": [
              "<Figure size 432x288 with 1 Axes>"
            ]
          },
          "metadata": {
            "tags": [],
            "needs_background": "light"
          }
        }
      ]
    },
    {
      "cell_type": "markdown",
      "metadata": {
        "id": "Y1olhPlVAkc4"
      },
      "source": [
        "Did it work and why? "
      ]
    },
    {
      "cell_type": "code",
      "metadata": {
        "id": "on20trBaAqPv"
      },
      "source": [
        "... # alternate approach"
      ],
      "execution_count": null,
      "outputs": []
    }
  ]
}
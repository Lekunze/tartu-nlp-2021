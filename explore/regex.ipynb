{
 "cells": [
  {
   "cell_type": "code",
   "execution_count": null,
   "metadata": {},
   "outputs": [],
   "source": [
    "'''\n",
    "    This Notebook contains several definitions of regex and examples\n",
    "    Content is curated from — Speech and Language Processing (Daniel Jurafsky & James H. Martin)\n",
    "    Available free online: \n",
    "    NB: Does not require external packages installed\n",
    "    \n",
    "    1. Exact Word Match\n",
    "    2. Any word match\n",
    "    3. All letters and numbers\n",
    "    4. Exclusion — Captain Caret (^)\n",
    "    5. Optional letters — Any Questions (?)\n",
    "    6. Zero or more letters — Kleene Star (*)\n",
    "    7. One or more letters — Kleene Plus (+)\n",
    "    8. Wildcard — (.)\n",
    "    9. Anchors\n",
    "    10. Disjunctions, Groupings and Precedence\n",
    "'''"
   ]
  },
  {
   "cell_type": "code",
   "execution_count": 1,
   "metadata": {},
   "outputs": [],
   "source": [
    "import re"
   ]
  },
  {
   "cell_type": "code",
   "execution_count": 2,
   "metadata": {},
   "outputs": [
    {
     "data": {
      "text/plain": [
       "<re.Match object; span=(34, 39), match='balls'>"
      ]
     },
     "execution_count": 2,
     "metadata": {},
     "output_type": "execute_result"
    }
   ],
   "source": [
    "'''\n",
    "    Exact match — /word/ or r'word'\n",
    "    NB: re.search() or re.match() can be used to locate patterns\n",
    "    The latter only searches at the start of the text\n",
    "'''\n",
    "\n",
    "exact_match = re.compile(r'balls')\n",
    "text = 'And they replied, these guys have balls!'\n",
    "\n",
    "exact_match.search(text)"
   ]
  },
  {
   "cell_type": "code",
   "execution_count": 4,
   "metadata": {},
   "outputs": [
    {
     "data": {
      "text/plain": [
       "<re.Match object; span=(4, 8), match='duck'>"
      ]
     },
     "execution_count": 4,
     "metadata": {},
     "output_type": "execute_result"
    }
   ],
   "source": [
    "'''\n",
    "    Any word (Square Brackets) — /[db]uck/ or r'[db]uck'\n",
    "    Matches duck OR buck\n",
    "'''\n",
    "\n",
    "any_match = re.compile(r'[db]uck')\n",
    "text = 'The duck bought some Doge!'\n",
    "\n",
    "any_match.search(text)"
   ]
  },
  {
   "cell_type": "code",
   "execution_count": null,
   "metadata": {},
   "outputs": [],
   "source": [
    "'''\n",
    "    All letters or numbers\n",
    "    Matching is case-sensitive, so: [A-Z] for uppercase & [a-z] for lowercase letters\n",
    "    Numbers: [0-9]\n",
    "'''\n",
    "\n",
    "# Add example"
   ]
  }
 ],
 "metadata": {
  "kernelspec": {
   "display_name": "Python 3",
   "language": "python",
   "name": "python3"
  },
  "language_info": {
   "codemirror_mode": {
    "name": "ipython",
    "version": 3
   },
   "file_extension": ".py",
   "mimetype": "text/x-python",
   "name": "python",
   "nbconvert_exporter": "python",
   "pygments_lexer": "ipython3",
   "version": "3.7.3"
  }
 },
 "nbformat": 4,
 "nbformat_minor": 2
}
